{
 "cells": [
  {
   "cell_type": "code",
   "execution_count": 7,
   "id": "81daf791-0355-4c34-8c3c-898358effd21",
   "metadata": {},
   "outputs": [],
   "source": [
    "import pandas as pd\n",
    "import pyarrow"
   ]
  },
  {
   "cell_type": "code",
   "execution_count": 4,
   "id": "74894df9-6add-4a4a-98bc-fc90b816f2d1",
   "metadata": {},
   "outputs": [],
   "source": [
    "def load_data(start_index=0, end_index=2000):\n",
    "    dataFrame = pd.DataFrame()\n",
    "    progress = 0\n",
    "    for index in range(start_index, end_index):\n",
    "        file_path = f\"/glade/p/cisl/aiml/gecko/ML2019_toluene_postproc_NEW/ML2019_toluene_ML2019_Exp{str(index)}.csv\"\n",
    "        dataFrame = dataFrame.append(pd.read_csv(file_path))\n",
    "        progress += 1\n",
    "        if progress % 100 == 0:\n",
    "            print(progress, \"experiments loaded\")\n",
    "    return dataFrame"
   ]
  },
  {
   "cell_type": "code",
   "execution_count": 8,
   "id": "d9dacdb3-6e96-4697-a3b5-d565517bd61d",
   "metadata": {},
   "outputs": [],
   "source": [
    "dataFrame.to_parquet(\"/glade/work/ochaarawi/raw_gecko.parquet\")"
   ]
  },
  {
   "cell_type": "code",
   "execution_count": null,
   "id": "51e6ba54-7bb1-4f11-b021-cd6962eef92f",
   "metadata": {},
   "outputs": [],
   "source": [
    "pd.to_par"
   ]
  },
  {
   "cell_type": "code",
   "execution_count": 2,
   "id": "8e5dd147-da26-469e-bfe7-19a996ad5375",
   "metadata": {},
   "outputs": [],
   "source": [
    "columns=['Time [s]', 'Precursor [ug/m3]', 'Temperature [K]', 'OH [molec/cm3]',\n",
    "       'O3 [molec/cm3]', 'NOx [molec/cm3]', 'SZA [degree]',\n",
    "        'pre-existing aerosols (ug/m3)',\n",
    "       'Gas [ug/m3] Bin01: lg(C*) = -6.5', 'Gas [ug/m3] Bin02: lg(C*) = -5.5',\n",
    "       'Gas [ug/m3] Bin03: lg(C*) = -4.5', 'Gas [ug/m3] Bin04: lg(C*) = -3.5',\n",
    "       'Gas [ug/m3] Bin05: lg(C*) = -2.5', 'Gas [ug/m3] Bin06: lg(C*) = -1.5',\n",
    "       'Gas [ug/m3] Bin07: lg(C*) = -0.5', 'Gas [ug/m3] Bin08: lg(C*) =  0.5',\n",
    "       'Gas [ug/m3] Bin09: lg(C*) =  1.5', 'Gas [ug/m3] Bin10: lg(C*) =  2.5',\n",
    "       'Gas [ug/m3] Bin11: lg(C*) =  3.5', 'Gas [ug/m3] Bin12: lg(C*) =  4.5',\n",
    "       'Gas [ug/m3] Bin13: lg(C*) =  5.5', 'Gas [ug/m3] Bin14: lg(C*) =  6.5',\n",
    "       'Aerosol [ug_m3] Bin01: lg(C*) = -6.5',\n",
    "       'Aerosol [ug_m3] Bin02: lg(C*) = -5.5',\n",
    "       'Aerosol [ug_m3] Bin03: lg(C*) = -4.5',\n",
    "       'Aerosol [ug_m3] Bin04: lg(C*) = -3.5',\n",
    "       'Aerosol [ug_m3] Bin05: lg(C*) = -2.5',\n",
    "       'Aerosol [ug_m3] Bin06: lg(C*) = -1.5',\n",
    "       'Aerosol [ug_m3] Bin07: lg(C*) = -0.5',\n",
    "       'Aerosol [ug_m3] Bin08: lg(C*) =  0.5',\n",
    "       'Aerosol [ug_m3] Bin09: lg(C*) =  1.5',\n",
    "       'Aerosol [ug_m3] Bin10: lg(C*) =  2.5',\n",
    "       'Aerosol [ug_m3] Bin11: lg(C*) =  3.5',\n",
    "       'Aerosol [ug_m3] Bin12: lg(C*) =  4.5',\n",
    "       'Aerosol [ug_m3] Bin13: lg(C*) =  5.5',\n",
    "       'Aerosol [ug_m3] Bin14: lg(C*) =  6.5', 'id']"
   ]
  },
  {
   "cell_type": "code",
   "execution_count": 3,
   "id": "ba91a0b6-9b65-45c4-a784-ac0af92371ba",
   "metadata": {},
   "outputs": [],
   "source": [
    "new_dataFrame = pd.DataFrame()"
   ]
  },
  {
   "cell_type": "code",
   "execution_count": null,
   "id": "1a8e2836-14bb-41aa-84dc-f1f311c36b7c",
   "metadata": {},
   "outputs": [],
   "source": [
    "for column in columns:\n",
    "    new_dataFrame[column] = dataFrame[column].values"
   ]
  }
 ],
 "metadata": {
  "kernelspec": {
   "display_name": "Python 3",
   "language": "python",
   "name": "python3"
  },
  "language_info": {
   "codemirror_mode": {
    "name": "ipython",
    "version": 3
   },
   "file_extension": ".py",
   "mimetype": "text/x-python",
   "name": "python",
   "nbconvert_exporter": "python",
   "pygments_lexer": "ipython3",
   "version": "3.9.4"
  }
 },
 "nbformat": 4,
 "nbformat_minor": 5
}
