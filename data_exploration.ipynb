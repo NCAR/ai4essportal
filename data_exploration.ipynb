{
 "cells": [
  {
   "cell_type": "markdown",
   "id": "rapid-klein",
   "metadata": {},
   "source": [
    "# Exploratatory Analysis of the GECKO-A data set\n",
    "\n",
    "Before we can apply any machine learning techniques, we must gather, prepare and explore the data available. Data is almost always presented in a way that makes building a model difficult if not impossible. This can be due to missing data, incorrect data types, variability in values between features that make modeling difficult, or any other number of reasons. We're going to start with loading the dataset. Then we will do some initial analysis of the data. How is it typed? What is the [Tukey 5-number Summary](https://machinelearningmastery.com/how-to-calculate-the-5-number-summary-for-your-data-in-python/#:~:text=The%20five%2Dnumber%20summary%2C%20or,for%20data%20with%20any%20distribution.)? How is the data distributed? Are the data in the features correlated? Then we move on to how we can scale and normalize the data to better help our algorithms solve for a model that can hopefully generalize well."
   ]
  },
  {
   "cell_type": "markdown",
   "id": "several-album",
   "metadata": {},
   "source": [
    "## Gathering the data\n",
    "\n",
    "Data can be stored in a variety of ways with varying complexities and advantages. One very common way of storing data is as a csv file. CSV has the advantage of being human readable and easily accessible by a large variety of applications, but with the caveat that csv files do not necessarily distinguish between text and numeric data. Data is also not typed so you cannot assume your application will automatically be able to distinguish between int, float, bool, text, etc.\n",
    "\n",
    "We will begin by loading a csv file into a pandas data frame. This will make it easier to explore the data as well as set the type for each column of data.\n",
    "\n",
    "GECKO-A runs simulations of precursors under a variety of different conditions for 5 days at 5 minute increments. It would be overwhelming to start with a large dataset so we will start by only loading experiment 1000 for the toluene precursor.\n",
    "\n",
    "**Note I want to ask about what DJ and John would like me to start with. Should I start with raw data or maybe just a single csv and doctor it up a little to run through changing data type and such in the tutorial?**\n",
    "**Note that in the future I am going to want to implement a way to publicly retrieve this data. Also it may be stored in the parquet format rather than csv**"
   ]
  },
  {
   "cell_type": "code",
   "execution_count": 1,
   "id": "advanced-wilson",
   "metadata": {},
   "outputs": [],
   "source": [
    "# We will need several popular data science tools for this notebook\n",
    "import pandas as pd\n",
    "import numpy as np\n",
    "import matplotlib.pylab as plt\n",
    "from scipy import stats\n",
    "from sklearn.preprocessing import StandardScaler\n",
    "import sklearn\n",
    "import sklearn.decomposition\n",
    "import scipy\n",
    "from sklearn.metrics import mean_squared_error\n",
    "%matplotlib inline"
   ]
  },
  {
   "cell_type": "code",
   "execution_count": 2,
   "id": "institutional-invitation",
   "metadata": {},
   "outputs": [],
   "source": [
    "file_path = \"/glade/p/cisl/aiml/gecko/ML2019_toluene_postproc_NEW/ML2019_toluene_ML2019_Exp1000.csv\""
   ]
  },
  {
   "cell_type": "markdown",
   "id": "individual-arena",
   "metadata": {},
   "source": [
    "We can load the data using pandas built-in \"read_csv\" function and take a peek using the pd.head() function. "
   ]
  },
  {
   "cell_type": "code",
   "execution_count": 3,
   "id": "induced-document",
   "metadata": {},
   "outputs": [
    {
     "data": {
      "text/html": [
       "<div>\n",
       "<style scoped>\n",
       "    .dataframe tbody tr th:only-of-type {\n",
       "        vertical-align: middle;\n",
       "    }\n",
       "\n",
       "    .dataframe tbody tr th {\n",
       "        vertical-align: top;\n",
       "    }\n",
       "\n",
       "    .dataframe thead th {\n",
       "        text-align: right;\n",
       "    }\n",
       "</style>\n",
       "<table border=\"1\" class=\"dataframe\">\n",
       "  <thead>\n",
       "    <tr style=\"text-align: right;\">\n",
       "      <th></th>\n",
       "      <th>Time [s]</th>\n",
       "      <th>Precursor [ug/m3]</th>\n",
       "      <th>Temperature [K]</th>\n",
       "      <th>OH [molec/cm3]</th>\n",
       "      <th>O3 [molec/cm3]</th>\n",
       "      <th>NOx [molec/cm3]</th>\n",
       "      <th>SZA [degree]</th>\n",
       "      <th>Gas [ug/m3] Bin01: lg(C*) = -6.5</th>\n",
       "      <th>Gas [ug/m3] Bin02: lg(C*) = -5.5</th>\n",
       "      <th>Gas [ug/m3] Bin03: lg(C*) = -4.5</th>\n",
       "      <th>...</th>\n",
       "      <th>N/C Bin05: lg(C*) = -2.5</th>\n",
       "      <th>N/C Bin06: lg(C*) = -1.5</th>\n",
       "      <th>N/C Bin07: lg(C*) = -0.5</th>\n",
       "      <th>N/C Bin08: lg(C*) =  0.5</th>\n",
       "      <th>N/C Bin09: lg(C*) =  1.5</th>\n",
       "      <th>N/C Bin10: lg(C*) =  2.5</th>\n",
       "      <th>N/C Bin11: lg(C*) =  3.5</th>\n",
       "      <th>N/C Bin12: lg(C*) =  4.5</th>\n",
       "      <th>N/C Bin13: lg(C*) =  5.5</th>\n",
       "      <th>N/C Bin14: lg(C*) =  6.5</th>\n",
       "    </tr>\n",
       "  </thead>\n",
       "  <tbody>\n",
       "    <tr>\n",
       "      <th>0</th>\n",
       "      <td>1.000000</td>\n",
       "      <td>0.037689</td>\n",
       "      <td>298.179718</td>\n",
       "      <td>2634522.0</td>\n",
       "      <td>2.865347e+12</td>\n",
       "      <td>1.738747e+10</td>\n",
       "      <td>156.839686</td>\n",
       "      <td>0.000000e+00</td>\n",
       "      <td>0.000000e+00</td>\n",
       "      <td>0.000000e+00</td>\n",
       "      <td>...</td>\n",
       "      <td>0.000000</td>\n",
       "      <td>0.000000</td>\n",
       "      <td>0.000000</td>\n",
       "      <td>0.000000</td>\n",
       "      <td>0.000000</td>\n",
       "      <td>0.000000</td>\n",
       "      <td>0.000000</td>\n",
       "      <td>0.000000</td>\n",
       "      <td>0.000000</td>\n",
       "      <td>0.000000</td>\n",
       "    </tr>\n",
       "    <tr>\n",
       "      <th>1</th>\n",
       "      <td>301.207794</td>\n",
       "      <td>0.037522</td>\n",
       "      <td>298.179718</td>\n",
       "      <td>2634522.0</td>\n",
       "      <td>2.865347e+12</td>\n",
       "      <td>2.857613e+11</td>\n",
       "      <td>156.845342</td>\n",
       "      <td>1.437334e-17</td>\n",
       "      <td>1.239800e-12</td>\n",
       "      <td>5.477925e-13</td>\n",
       "      <td>...</td>\n",
       "      <td>0.276480</td>\n",
       "      <td>0.196323</td>\n",
       "      <td>0.146863</td>\n",
       "      <td>0.211432</td>\n",
       "      <td>0.079300</td>\n",
       "      <td>0.143338</td>\n",
       "      <td>0.010915</td>\n",
       "      <td>0.137913</td>\n",
       "      <td>0.080868</td>\n",
       "      <td>0.000905</td>\n",
       "    </tr>\n",
       "    <tr>\n",
       "      <th>2</th>\n",
       "      <td>601.415588</td>\n",
       "      <td>0.037355</td>\n",
       "      <td>298.092407</td>\n",
       "      <td>2634522.0</td>\n",
       "      <td>2.865347e+12</td>\n",
       "      <td>5.082960e+11</td>\n",
       "      <td>156.787255</td>\n",
       "      <td>1.273297e-17</td>\n",
       "      <td>1.094499e-12</td>\n",
       "      <td>4.821359e-13</td>\n",
       "      <td>...</td>\n",
       "      <td>0.278963</td>\n",
       "      <td>0.139626</td>\n",
       "      <td>0.038531</td>\n",
       "      <td>0.229156</td>\n",
       "      <td>0.093255</td>\n",
       "      <td>0.146419</td>\n",
       "      <td>0.032462</td>\n",
       "      <td>0.137106</td>\n",
       "      <td>0.051741</td>\n",
       "      <td>0.001997</td>\n",
       "    </tr>\n",
       "    <tr>\n",
       "      <th>3</th>\n",
       "      <td>901.623352</td>\n",
       "      <td>0.037189</td>\n",
       "      <td>298.005127</td>\n",
       "      <td>2634522.0</td>\n",
       "      <td>2.865347e+12</td>\n",
       "      <td>6.930831e+11</td>\n",
       "      <td>156.665902</td>\n",
       "      <td>1.144432e-17</td>\n",
       "      <td>9.674742e-13</td>\n",
       "      <td>4.288795e-13</td>\n",
       "      <td>...</td>\n",
       "      <td>0.281173</td>\n",
       "      <td>0.080940</td>\n",
       "      <td>0.038050</td>\n",
       "      <td>0.244181</td>\n",
       "      <td>0.098729</td>\n",
       "      <td>0.151842</td>\n",
       "      <td>0.056919</td>\n",
       "      <td>0.136595</td>\n",
       "      <td>0.040094</td>\n",
       "      <td>0.003167</td>\n",
       "    </tr>\n",
       "    <tr>\n",
       "      <th>4</th>\n",
       "      <td>1201.831177</td>\n",
       "      <td>0.037024</td>\n",
       "      <td>297.917938</td>\n",
       "      <td>2634522.0</td>\n",
       "      <td>2.865347e+12</td>\n",
       "      <td>8.467239e+11</td>\n",
       "      <td>156.482265</td>\n",
       "      <td>1.085807e-17</td>\n",
       "      <td>8.611497e-13</td>\n",
       "      <td>3.972799e-13</td>\n",
       "      <td>...</td>\n",
       "      <td>0.282642</td>\n",
       "      <td>0.058053</td>\n",
       "      <td>0.046640</td>\n",
       "      <td>0.258280</td>\n",
       "      <td>0.101695</td>\n",
       "      <td>0.159428</td>\n",
       "      <td>0.079230</td>\n",
       "      <td>0.136029</td>\n",
       "      <td>0.035332</td>\n",
       "      <td>0.004402</td>\n",
       "    </tr>\n",
       "  </tbody>\n",
       "</table>\n",
       "<p>5 rows × 133 columns</p>\n",
       "</div>"
      ],
      "text/plain": [
       "      Time [s]   Precursor [ug/m3]   Temperature [K]   OH [molec/cm3]  \\\n",
       "0     1.000000            0.037689        298.179718        2634522.0   \n",
       "1   301.207794            0.037522        298.179718        2634522.0   \n",
       "2   601.415588            0.037355        298.092407        2634522.0   \n",
       "3   901.623352            0.037189        298.005127        2634522.0   \n",
       "4  1201.831177            0.037024        297.917938        2634522.0   \n",
       "\n",
       "    O3 [molec/cm3]   NOx [molec/cm3]   SZA [degree]  \\\n",
       "0     2.865347e+12      1.738747e+10     156.839686   \n",
       "1     2.865347e+12      2.857613e+11     156.845342   \n",
       "2     2.865347e+12      5.082960e+11     156.787255   \n",
       "3     2.865347e+12      6.930831e+11     156.665902   \n",
       "4     2.865347e+12      8.467239e+11     156.482265   \n",
       "\n",
       "    Gas [ug/m3] Bin01: lg(C*) = -6.5   Gas [ug/m3] Bin02: lg(C*) = -5.5  \\\n",
       "0                       0.000000e+00                       0.000000e+00   \n",
       "1                       1.437334e-17                       1.239800e-12   \n",
       "2                       1.273297e-17                       1.094499e-12   \n",
       "3                       1.144432e-17                       9.674742e-13   \n",
       "4                       1.085807e-17                       8.611497e-13   \n",
       "\n",
       "    Gas [ug/m3] Bin03: lg(C*) = -4.5  ...   N/C Bin05: lg(C*) = -2.5  \\\n",
       "0                       0.000000e+00  ...                   0.000000   \n",
       "1                       5.477925e-13  ...                   0.276480   \n",
       "2                       4.821359e-13  ...                   0.278963   \n",
       "3                       4.288795e-13  ...                   0.281173   \n",
       "4                       3.972799e-13  ...                   0.282642   \n",
       "\n",
       "    N/C Bin06: lg(C*) = -1.5   N/C Bin07: lg(C*) = -0.5  \\\n",
       "0                   0.000000                   0.000000   \n",
       "1                   0.196323                   0.146863   \n",
       "2                   0.139626                   0.038531   \n",
       "3                   0.080940                   0.038050   \n",
       "4                   0.058053                   0.046640   \n",
       "\n",
       "    N/C Bin08: lg(C*) =  0.5   N/C Bin09: lg(C*) =  1.5  \\\n",
       "0                   0.000000                   0.000000   \n",
       "1                   0.211432                   0.079300   \n",
       "2                   0.229156                   0.093255   \n",
       "3                   0.244181                   0.098729   \n",
       "4                   0.258280                   0.101695   \n",
       "\n",
       "    N/C Bin10: lg(C*) =  2.5   N/C Bin11: lg(C*) =  3.5  \\\n",
       "0                   0.000000                   0.000000   \n",
       "1                   0.143338                   0.010915   \n",
       "2                   0.146419                   0.032462   \n",
       "3                   0.151842                   0.056919   \n",
       "4                   0.159428                   0.079230   \n",
       "\n",
       "    N/C Bin12: lg(C*) =  4.5   N/C Bin13: lg(C*) =  5.5  \\\n",
       "0                   0.000000                   0.000000   \n",
       "1                   0.137913                   0.080868   \n",
       "2                   0.137106                   0.051741   \n",
       "3                   0.136595                   0.040094   \n",
       "4                   0.136029                   0.035332   \n",
       "\n",
       "    N/C Bin14: lg(C*) =  6.5                                                                                                        \n",
       "0                                           0.000000                                                                                \n",
       "1                                           0.000905                                                                                \n",
       "2                                           0.001997                                                                                \n",
       "3                                           0.003167                                                                                \n",
       "4                                           0.004402                                                                                \n",
       "\n",
       "[5 rows x 133 columns]"
      ]
     },
     "execution_count": 3,
     "metadata": {},
     "output_type": "execute_result"
    }
   ],
   "source": [
    "dataFrame = pd.read_csv(file_path)\n",
    "dataFrame.head()"
   ]
  },
  {
   "cell_type": "markdown",
   "id": "instant-thing",
   "metadata": {},
   "source": [
    "Already we can see what columns are included in the data and get an idea of variablity in scale. Let's do some further formal investigation."
   ]
  },
  {
   "cell_type": "markdown",
   "id": "mature-trust",
   "metadata": {
    "tags": []
   },
   "source": [
    "To see "
   ]
  },
  {
   "cell_type": "code",
   "execution_count": 4,
   "id": "negative-sauce",
   "metadata": {},
   "outputs": [
    {
     "name": "stdout",
     "output_type": "stream",
     "text": [
      "<class 'pandas.core.frame.DataFrame'>\n",
      "RangeIndex: 1440 entries, 0 to 1439\n",
      "Data columns (total 133 columns):\n",
      " #    Column                                                                                                                           Dtype  \n",
      "---   ------                                                                                                                           -----  \n",
      " 0     Time [s]                                                                                                                        float64\n",
      " 1     Precursor [ug/m3]                                                                                                               float64\n",
      " 2     Temperature [K]                                                                                                                 float64\n",
      " 3     OH [molec/cm3]                                                                                                                  float64\n",
      " 4     O3 [molec/cm3]                                                                                                                  float64\n",
      " 5     NOx [molec/cm3]                                                                                                                 float64\n",
      " 6     SZA [degree]                                                                                                                    float64\n",
      " 7     Gas [ug/m3] Bin01: lg(C*) = -6.5                                                                                                float64\n",
      " 8     Gas [ug/m3] Bin02: lg(C*) = -5.5                                                                                                float64\n",
      " 9     Gas [ug/m3] Bin03: lg(C*) = -4.5                                                                                                float64\n",
      " 10    Gas [ug/m3] Bin04: lg(C*) = -3.5                                                                                                float64\n",
      " 11    Gas [ug/m3] Bin05: lg(C*) = -2.5                                                                                                float64\n",
      " 12    Gas [ug/m3] Bin06: lg(C*) = -1.5                                                                                                float64\n",
      " 13    Gas [ug/m3] Bin07: lg(C*) = -0.5                                                                                                float64\n",
      " 14    Gas [ug/m3] Bin08: lg(C*) =  0.5                                                                                                float64\n",
      " 15    Gas [ug/m3] Bin09: lg(C*) =  1.5                                                                                                float64\n",
      " 16    Gas [ug/m3] Bin10: lg(C*) =  2.5                                                                                                float64\n",
      " 17    Gas [ug/m3] Bin11: lg(C*) =  3.5                                                                                                float64\n",
      " 18    Gas [ug/m3] Bin12: lg(C*) =  4.5                                                                                                float64\n",
      " 19    Gas [ug/m3] Bin13: lg(C*) =  5.5                                                                                                float64\n",
      " 20    Gas [ug/m3] Bin14: lg(C*) =  6.5                                                                                                float64\n",
      " 21    Aerosol [ug_m3] Bin01: lg(C*) = -6.5                                                                                            float64\n",
      " 22    Aerosol [ug_m3] Bin02: lg(C*) = -5.5                                                                                            float64\n",
      " 23    Aerosol [ug_m3] Bin03: lg(C*) = -4.5                                                                                            float64\n",
      " 24    Aerosol [ug_m3] Bin04: lg(C*) = -3.5                                                                                            float64\n",
      " 25    Aerosol [ug_m3] Bin05: lg(C*) = -2.5                                                                                            float64\n",
      " 26    Aerosol [ug_m3] Bin06: lg(C*) = -1.5                                                                                            float64\n",
      " 27    Aerosol [ug_m3] Bin07: lg(C*) = -0.5                                                                                            float64\n",
      " 28    Aerosol [ug_m3] Bin08: lg(C*) =  0.5                                                                                            float64\n",
      " 29    Aerosol [ug_m3] Bin09: lg(C*) =  1.5                                                                                            float64\n",
      " 30    Aerosol [ug_m3] Bin10: lg(C*) =  2.5                                                                                            float64\n",
      " 31    Aerosol [ug_m3] Bin11: lg(C*) =  3.5                                                                                            float64\n",
      " 32    Aerosol [ug_m3] Bin12: lg(C*) =  4.5                                                                                            float64\n",
      " 33    Aerosol [ug_m3] Bin13: lg(C*) =  5.5                                                                                            float64\n",
      " 34    Aerosol [ug_m3] Bin14: lg(C*) =  6.5                                                                                            float64\n",
      " 35    Kh [M/atm] Bin01: lg(C*) = -6.5                                                                                                 float64\n",
      " 36    Kh [M/atm] Bin02: lg(C*) = -5.5                                                                                                 float64\n",
      " 37    Kh [M/atm] Bin03: lg(C*) = -4.5                                                                                                 float64\n",
      " 38    Kh [M/atm] Bin04: lg(C*) = -3.5                                                                                                 float64\n",
      " 39    Kh [M/atm] Bin05: lg(C*) = -2.5                                                                                                 float64\n",
      " 40    Kh [M/atm] Bin06: lg(C*) = -1.5                                                                                                 float64\n",
      " 41    Kh [M/atm] Bin07: lg(C*) = -0.5                                                                                                 float64\n",
      " 42    Kh [M/atm] Bin08: lg(C*) =  0.5                                                                                                 float64\n",
      " 43    Kh [M/atm] Bin09: lg(C*) =  1.5                                                                                                 float64\n",
      " 44    Kh [M/atm] Bin10: lg(C*) =  2.5                                                                                                 float64\n",
      " 45    Kh [M/atm] Bin11: lg(C*) =  3.5                                                                                                 float64\n",
      " 46    Kh [M/atm] Bin12: lg(C*) =  4.5                                                                                                 float64\n",
      " 47    Kh [M/atm] Bin13: lg(C*) =  5.5                                                                                                 float64\n",
      " 48    Kh [M/atm] Bin14: lg(C*) =  6.5                                                                                                 float64\n",
      " 49    MW [g/mol] Bin01: lg(C*) = -6.5                                                                                                 float64\n",
      " 50    MW [g/mol] Bin02: lg(C*) = -5.5                                                                                                 float64\n",
      " 51    MW [g/mol] Bin03: lg(C*) = -4.5                                                                                                 float64\n",
      " 52    MW [g/mol] Bin04: lg(C*) = -3.5                                                                                                 float64\n",
      " 53    MW [g/mol] Bin05: lg(C*) = -2.5                                                                                                 float64\n",
      " 54    MW [g/mol] Bin06: lg(C*) = -1.5                                                                                                 float64\n",
      " 55    MW [g/mol] Bin07: lg(C*) = -0.5                                                                                                 float64\n",
      " 56    MW [g/mol] Bin08: lg(C*) =  0.5                                                                                                 float64\n",
      " 57    MW [g/mol] Bin09: lg(C*) =  1.5                                                                                                 float64\n",
      " 58    MW [g/mol] Bin10: lg(C*) =  2.5                                                                                                 float64\n",
      " 59    MW [g/mol] Bin11: lg(C*) =  3.5                                                                                                 float64\n",
      " 60    MW [g/mol] Bin12: lg(C*) =  4.5                                                                                                 float64\n",
      " 61    MW [g/mol] Bin13: lg(C*) =  5.5                                                                                                 float64\n",
      " 62    MW [g/mol] Bin14: lg(C*) =  6.5                                                                                                 float64\n",
      " 63    dH [J/mol] Bin01: lg(C*) = -6.5                                                                                                 float64\n",
      " 64    dH [J/mol] Bin02: lg(C*) = -5.5                                                                                                 float64\n",
      " 65    dH [J/mol] Bin03: lg(C*) = -4.5                                                                                                 float64\n",
      " 66    dH [J/mol] Bin04: lg(C*) = -3.5                                                                                                 float64\n",
      " 67    dH [J/mol] Bin05: lg(C*) = -2.5                                                                                                 float64\n",
      " 68    dH [J/mol] Bin06: lg(C*) = -1.5                                                                                                 float64\n",
      " 69    dH [J/mol] Bin07: lg(C*) = -0.5                                                                                                 float64\n",
      " 70    dH [J/mol] Bin08: lg(C*) =  0.5                                                                                                 float64\n",
      " 71    dH [J/mol] Bin09: lg(C*) =  1.5                                                                                                 float64\n",
      " 72    dH [J/mol] Bin10: lg(C*) =  2.5                                                                                                 float64\n",
      " 73    dH [J/mol] Bin11: lg(C*) =  3.5                                                                                                 float64\n",
      " 74    dH [J/mol] Bin12: lg(C*) =  4.5                                                                                                 float64\n",
      " 75    dH [J/mol] Bin13: lg(C*) =  5.5                                                                                                 float64\n",
      " 76    dH [J/mol] Bin14: lg(C*) =  6.5                                                                                                 float64\n",
      " 77    kOH [cm3/molec/s] Bin01: lg(C*) = -6.5                                                                                          float64\n",
      " 78    kOH [cm3/molec/s] Bin02: lg(C*) = -5.5                                                                                          float64\n",
      " 79    kOH [cm3/molec/s] Bin03: lg(C*) = -4.5                                                                                          float64\n",
      " 80    kOH [cm3/molec/s] Bin04: lg(C*) = -3.5                                                                                          float64\n",
      " 81    kOH [cm3/molec/s] Bin05: lg(C*) = -2.5                                                                                          float64\n",
      " 82    kOH [cm3/molec/s] Bin06: lg(C*) = -1.5                                                                                          float64\n",
      " 83    kOH [cm3/molec/s] Bin07: lg(C*) = -0.5                                                                                          float64\n",
      " 84    kOH [cm3/molec/s] Bin08: lg(C*) =  0.5                                                                                          float64\n",
      " 85    kOH [cm3/molec/s] Bin09: lg(C*) =  1.5                                                                                          float64\n",
      " 86    kOH [cm3/molec/s] Bin10: lg(C*) =  2.5                                                                                          float64\n",
      " 87    kOH [cm3/molec/s] Bin11: lg(C*) =  3.5                                                                                          float64\n",
      " 88    kOH [cm3/molec/s] Bin12: lg(C*) =  4.5                                                                                          float64\n",
      " 89    kOH [cm3/molec/s] Bin13: lg(C*) =  5.5                                                                                          float64\n",
      " 90    kOH [cm3/molec/s] Bin14: lg(C*) =  6.5                                                                                          float64\n",
      " 91    O/C Bin01: lg(C*) = -6.5                                                                                                        float64\n",
      " 92    O/C Bin02: lg(C*) = -5.5                                                                                                        float64\n",
      " 93    O/C Bin03: lg(C*) = -4.5                                                                                                        float64\n",
      " 94    O/C Bin04: lg(C*) = -3.5                                                                                                        float64\n",
      " 95    O/C Bin05: lg(C*) = -2.5                                                                                                        float64\n",
      " 96    O/C Bin06: lg(C*) = -1.5                                                                                                        float64\n",
      " 97    O/C Bin07: lg(C*) = -0.5                                                                                                        float64\n",
      " 98    O/C Bin08: lg(C*) =  0.5                                                                                                        float64\n",
      " 99    O/C Bin09: lg(C*) =  1.5                                                                                                        float64\n",
      " 100   O/C Bin10: lg(C*) =  2.5                                                                                                        float64\n",
      " 101   O/C Bin11: lg(C*) =  3.5                                                                                                        float64\n",
      " 102   O/C Bin12: lg(C*) =  4.5                                                                                                        float64\n",
      " 103   O/C Bin13: lg(C*) =  5.5                                                                                                        float64\n",
      " 104   O/C Bin14: lg(C*) =  6.5                                                                                                        float64\n",
      " 105   H/C Bin01: lg(C*) = -6.5                                                                                                        float64\n",
      " 106   H/C Bin02: lg(C*) = -5.5                                                                                                        float64\n",
      " 107   H/C Bin03: lg(C*) = -4.5                                                                                                        float64\n",
      " 108   H/C Bin04: lg(C*) = -3.5                                                                                                        float64\n",
      " 109   H/C Bin05: lg(C*) = -2.5                                                                                                        float64\n",
      " 110   H/C Bin06: lg(C*) = -1.5                                                                                                        float64\n",
      " 111   H/C Bin07: lg(C*) = -0.5                                                                                                        float64\n",
      " 112   H/C Bin08: lg(C*) =  0.5                                                                                                        float64\n",
      " 113   H/C Bin09: lg(C*) =  1.5                                                                                                        float64\n",
      " 114   H/C Bin10: lg(C*) =  2.5                                                                                                        float64\n",
      " 115   H/C Bin11: lg(C*) =  3.5                                                                                                        float64\n",
      " 116   H/C Bin12: lg(C*) =  4.5                                                                                                        float64\n",
      " 117   H/C Bin13: lg(C*) =  5.5                                                                                                        float64\n",
      " 118   H/C Bin14: lg(C*) =  6.5                                                                                                        float64\n",
      " 119   N/C Bin01: lg(C*) = -6.5                                                                                                        float64\n",
      " 120   N/C Bin02: lg(C*) = -5.5                                                                                                        float64\n",
      " 121   N/C Bin03: lg(C*) = -4.5                                                                                                        float64\n",
      " 122   N/C Bin04: lg(C*) = -3.5                                                                                                        float64\n",
      " 123   N/C Bin05: lg(C*) = -2.5                                                                                                        float64\n",
      " 124   N/C Bin06: lg(C*) = -1.5                                                                                                        float64\n",
      " 125   N/C Bin07: lg(C*) = -0.5                                                                                                        float64\n",
      " 126   N/C Bin08: lg(C*) =  0.5                                                                                                        float64\n",
      " 127   N/C Bin09: lg(C*) =  1.5                                                                                                        float64\n",
      " 128   N/C Bin10: lg(C*) =  2.5                                                                                                        float64\n",
      " 129   N/C Bin11: lg(C*) =  3.5                                                                                                        float64\n",
      " 130   N/C Bin12: lg(C*) =  4.5                                                                                                        float64\n",
      " 131   N/C Bin13: lg(C*) =  5.5                                                                                                        float64\n",
      " 132   N/C Bin14: lg(C*) =  6.5                                                                                                        float64\n",
      "dtypes: float64(133)\n",
      "memory usage: 1.5 MB\n"
     ]
    }
   ],
   "source": [
    "# Uncomment to see info, kind of a long printout\n",
    "dataFrame.info(verbose=True)"
   ]
  },
  {
   "cell_type": "code",
   "execution_count": 145,
   "id": "greek-leave",
   "metadata": {},
   "outputs": [],
   "source": [
    "mean_list = [dataFrame[x].mean() for x in dataFrame]\n",
    "variane_list = [dataFrame[x].var(ddof=1) for x in dataFrame]"
   ]
  },
  {
   "cell_type": "code",
   "execution_count": 146,
   "id": "micro-airfare",
   "metadata": {},
   "outputs": [
    {
     "data": {
      "image/png": "[encoded data removed]",
      "text/plain": [
       "<Figure size 432x288 with 1 Axes>"
      ]
     },
     "metadata": {
      "needs_background": "light"
     },
     "output_type": "display_data"
    }
   ],
   "source": [
    "_ = plt.hist([mean_list,variane_list]);\n",
    "plt.show()"
   ]
  },
  {
   "cell_type": "markdown",
   "id": "stuffed-influence",
   "metadata": {},
   "source": [
    "We can already see that there are 133 features in this matrix of data, there are 1440 time steps and the data is not well distributed at all."
   ]
  },
  {
   "cell_type": "markdown",
   "id": "outer-habitat",
   "metadata": {},
   "source": [
    "There are a few ways we can distribute the data a little better. It's much easier to work with something that follows somewhat of a gaussian distribution. like the following:"
   ]
  },
  {
   "cell_type": "code",
   "execution_count": 147,
   "id": "three-defeat",
   "metadata": {},
   "outputs": [
    {
     "data": {
      "image/png": "[encoded data removed]",
      "text/plain": [
       "<Figure size 432x288 with 1 Axes>"
      ]
     },
     "metadata": {
      "needs_background": "light"
     },
     "output_type": "display_data"
    }
   ],
   "source": [
    "# Plot between -1 and 1 with .001 steps.\n",
    "x_axis = np.arange(-1, 1, 0.001)\n",
    "# Mean = 0, SD = 2.\n",
    "plt.plot(x_axis, stats.norm.pdf(x_axis,0,0.3))\n",
    "plt.show()"
   ]
  },
  {
   "cell_type": "code",
   "execution_count": 148,
   "id": "empty-traffic",
   "metadata": {},
   "outputs": [
    {
     "name": "stdout",
     "output_type": "stream",
     "text": [
      "[' MW [g/mol] Bin11: lg(C*) =  3.5' ' H/C Bin11: lg(C*) =  3.5'\n",
      " ' kOH [cm3/molec/s] Bin07: lg(C*) = -0.5'\n",
      " ' MW [g/mol] Bin14: lg(C*) =  6.5' ' O/C Bin12: lg(C*) =  4.5'\n",
      " ' dH [J/mol] Bin14: lg(C*) =  6.5'\n",
      " ' Aerosol [ug_m3] Bin07: lg(C*) = -0.5' ' N/C Bin01: lg(C*) = -6.5'\n",
      " ' N/C Bin10: lg(C*) =  2.5' ' MW [g/mol] Bin05: lg(C*) = -2.5']\n"
     ]
    }
   ],
   "source": [
    "sample = np.random.choice(dataFrame.columns, size = 10)\n",
    "print(sample)"
   ]
  },
  {
   "cell_type": "code",
   "execution_count": 149,
   "id": "killing-injury",
   "metadata": {},
   "outputs": [
    {
     "data": {
      "image/png": "[encoded data removed]",
      "text/plain": [
       "<Figure size 432x288 with 1 Axes>"
      ]
     },
     "metadata": {
      "needs_background": "light"
     },
     "output_type": "display_data"
    }
   ],
   "source": [
    "sampled_data = dataFrame.loc[:,sample]\n",
    "_ = plt.hist(sampled_data)"
   ]
  },
  {
   "cell_type": "code",
   "execution_count": 150,
   "id": "amateur-effectiveness",
   "metadata": {},
   "outputs": [],
   "source": [
    "scaler = StandardScaler()\n",
    "scaler  = scaler.fit(sampled_data)\n",
    "sampled_data_scaled = scaler.transform(sampled_data)"
   ]
  },
  {
   "cell_type": "code",
   "execution_count": 151,
   "id": "serial-asthma",
   "metadata": {},
   "outputs": [
    {
     "data": {
      "image/png": "[encoded data removed]",
      "text/plain": [
       "<Figure size 432x288 with 1 Axes>"
      ]
     },
     "metadata": {
      "needs_background": "light"
     },
     "output_type": "display_data"
    }
   ],
   "source": [
    "_ = plt.hist(sampled_data_scaled, bins = 15, range = [-5,5])"
   ]
  },
  {
   "cell_type": "code",
   "execution_count": 152,
   "id": "suspected-remark",
   "metadata": {},
   "outputs": [],
   "source": [
    "dataFrameArray = dataFrame.loc[::].values"
   ]
  },
  {
   "cell_type": "code",
   "execution_count": 153,
   "id": "resistant-click",
   "metadata": {},
   "outputs": [
    {
     "data": {
      "image/png": "[encoded data removed]",
      "text/plain": [
       "<Figure size 432x288 with 1 Axes>"
      ]
     },
     "metadata": {
      "needs_background": "light"
     },
     "output_type": "display_data"
    }
   ],
   "source": [
    "pca = sklearn.decomposition.PCA(n_components=132)\n",
    "pca.fit(dataFrameArray)\n",
    "X = pca.transform(dataFrameArray)\n",
    "_ = plt.hist(X, range = [-2,2], bins = 20)"
   ]
  },
  {
   "cell_type": "markdown",
   "id": "norman-secretariat",
   "metadata": {},
   "source": [
    "## Constructing a basic linear model\n",
    "\n",
    "So far we have peeked at the data and applied two scaling techniques. Let's construct a very basic model to predict precursor at t+n where t is the previous timestep and n represent the lead time. Lead time being t_delta between observation and prediction.\n"
   ]
  },
  {
   "cell_type": "markdown",
   "id": "progressive-conspiracy",
   "metadata": {},
   "source": [
    "For our model we are give a matrix of predictors **X** and a vector of **y**. We are trying to solve for model *w* which minimizes the following:\n",
    "\n",
    "$$\\text{min}||Xw-y||^2 $$\n",
    "\n",
    "There will me more on this later. Let's just abstract away model building for now so we can see the importance of feature scaling and normalization.\n",
    "\n",
    "The general steps here will be.\n",
    "\n",
    "*Step 1*: Build X and y\n",
    "\n",
    "*Step 2*: Separate data into a training set, valuation set, and test set. (There is a bit of technique in this, but we will make this simple for now.)\n",
    "\n",
    "*Step 3*: Use the training set to develop a model that will generalize to the valuation set. \n",
    "\n",
    "*Step 4*: Apply changes as necessary to avoid underfitting and overfitting. (More on this later.)\n",
    "\n",
    "*Step 5*: Apply your model to the test set."
   ]
  },
  {
   "cell_type": "markdown",
   "id": "permanent-craps",
   "metadata": {},
   "source": [
    "### Helper"
   ]
  },
  {
   "cell_type": "code",
   "execution_count": 155,
   "id": "bridal-macro",
   "metadata": {},
   "outputs": [],
   "source": [
    "def plot_GECKO_time_series(y, y_predictions, title):\n",
    "    \"\"\"\n",
    "    notes\n",
    "    -----\n",
    "        Taken from seasonal_forecasting.ipynb notebook. Credit: Charlie Becker\n",
    "\n",
    "    inputs\n",
    "    ------\n",
    "        y             pd.array  : time series of the true precursor amount\n",
    "        predictions   np.array  : time series of the predicted values for y (same\n",
    "                                  length and time as y)\n",
    "        title                   : the title of the plot\n",
    "\n",
    "    outputs\n",
    "    -------\n",
    "        None.  Displays the plot\n",
    "    \"\"\"\n",
    "#     predictions = pd.Series(y_predictions, index=y.index)\n",
    "#     predictions = predictions.sort_index()\n",
    "#     y = y.sort_index()\n",
    "\n",
    "    plt.plot(y, label='Ground Truth')\n",
    "    plt.plot(y_predictions, '--', label='ML Predictions')\n",
    "    plt.legend(loc='best')\n",
    "    plt.title(title)\n",
    "    plt.ylabel('Precursor [ug/m3] ')\n",
    "    plt.xlabel('Time-step')\n",
    "    plt.show()\n",
    "    plt.close()"
   ]
  },
  {
   "cell_type": "markdown",
   "id": "martial-score",
   "metadata": {},
   "source": [
    "### Step 1: Build X and y"
   ]
  },
  {
   "cell_type": "code",
   "execution_count": null,
   "id": "asian-vinyl",
   "metadata": {},
   "outputs": [],
   "source": [
    "def assemble_predictors_predictands(start_index, end_index, lead_time, dataFrame):\n",
    "    X = dataFrame.iloc[start_index:end_index,1:].values\n",
    "    y = dataFrame.loc[start_index + lead_time: end_index + lead_time - 1,' Precursor [ug/m3]'].values\n",
    "    #TODO\n",
    "    # Add logic to make sure dataframe is not being overindexed when building vector of predictands\n",
    "    \n",
    "    \"\"\"\n",
    "    notes\n",
    "    -----\n",
    "        Taken from seasonal_forecasting.ipynb notebook. Credit: Charlie Becker\n",
    "        We will ignore the time domain in our feature matrix.\n",
    "        \n",
    "    inputs\n",
    "    ------\n",
    "\n",
    "        start_index       int : the start index from which to extraxt features\n",
    "        end_index         int : the end index\n",
    "        lead_time         int : (n) the number of timesteps between each row of features\n",
    "                              and the target amount of precursor\n",
    "\n",
    "    outputs\n",
    "    -------\n",
    "        Returns a tuple of the predictors (np array of predictive features) \n",
    "        and the predictands (np array of precursor at t+n).\n",
    "        \"\"\"\n",
    "\n",
    "    return X,y"
   ]
  },
  {
   "cell_type": "code",
   "execution_count": 185,
   "id": "sharp-needle",
   "metadata": {},
   "outputs": [],
   "source": [
    "X,y = assemble_predictors_predictands(start_index = 0, end_index = 1390, lead_time = 1, dataFrame = dataFrame)"
   ]
  },
  {
   "cell_type": "code",
   "execution_count": 186,
   "id": "educational-selection",
   "metadata": {},
   "outputs": [
    {
     "data": {
      "image/png": "[encoded data removed]",
      "text/plain": [
       "<Figure size 432x288 with 1 Axes>"
      ]
     },
     "metadata": {
      "needs_background": "light"
     },
     "output_type": "display_data"
    }
   ],
   "source": [
    "plot_GECKO_time_series(y,y,\"Amount of Precursor over time?\")"
   ]
  },
  {
   "cell_type": "markdown",
   "id": "unsigned-advertiser",
   "metadata": {},
   "source": [
    "### Step 2: Separate data into a training set, valuation set, and test set. (There is a bit of technique in this, but we will make this simple for now.)\n",
    "\n",
    "We are going to allocated about 55% of the lower half of data for training, 65-75% will be for valuation, and 85-95% for test set. This will be approximate separations going by index. There are other methods for creating sets but this will be covered in a later notebook."
   ]
  },
  {
   "cell_type": "code",
   "execution_count": 173,
   "id": "parallel-right",
   "metadata": {},
   "outputs": [
    {
     "name": "stdout",
     "output_type": "stream",
     "text": [
      "792\n",
      "936\n",
      "1080\n",
      "1224\n",
      "1368\n"
     ]
    }
   ],
   "source": [
    "for i in [1440 * 0.55, 1440 * 0.65, 1440 * 0.75, 1440 * 0.85, 1440 * 0.95]:\n",
    "    print(int(i))"
   ]
  },
  {
   "cell_type": "code",
   "execution_count": 183,
   "id": "anonymous-detective",
   "metadata": {},
   "outputs": [],
   "source": [
    "X_train, y_train = assemble_predictors_predictands(start_index=0, end_index=1300, lead_time=1, dataFrame=dataFrame)\n",
    "X_val, y_val = assemble_predictors_predictands(start_index=936, end_index=1080, lead_time=1, dataFrame=dataFrame)\n",
    "X_test, y_test = assemble_predictors_predictands(start_index=1224, end_index=1368, lead_time=1, dataFrame=dataFrame)"
   ]
  },
  {
   "cell_type": "markdown",
   "id": "distinct-process",
   "metadata": {},
   "source": [
    "### *Step 3*: Use the training set to develop a model that will generalize to the valuation set. "
   ]
  },
  {
   "cell_type": "code",
   "execution_count": 184,
   "id": "laden-cargo",
   "metadata": {},
   "outputs": [
    {
     "name": "stdout",
     "output_type": "stream",
     "text": [
      "RMSE: 0.00\n"
     ]
    },
    {
     "data": {
      "image/png": "[encoded data removed]",
      "text/plain": [
       "<Figure size 432x288 with 1 Axes>"
      ]
     },
     "metadata": {
      "needs_background": "light"
     },
     "output_type": "display_data"
    }
   ],
   "source": [
    "#Let's use a linear regression model\n",
    "regr = sklearn.linear_model.LinearRegression()\n",
    "regr.fit(X_train,y_train)\n",
    "\n",
    "predictions = regr.predict(X_val)\n",
    "corr, _ = scipy.stats.pearsonr(predictions, y_val)\n",
    "rmse = mean_squared_error(y_val, predictions)\n",
    "print(\"RMSE: {:.2f}\".format(rmse))\n",
    "\n",
    "plot_GECKO_time_series(y_val, predictions, \n",
    "    'Predicted and True Precursor amount on Training Set at 1 Time-Step Lead Time. \\n Corr: {:.2f}'.format(corr))"
   ]
  },
  {
   "cell_type": "markdown",
   "id": "champion-reading",
   "metadata": {},
   "source": [
    "## Moving on to larger dataset"
   ]
  },
  {
   "cell_type": "code",
   "execution_count": null,
   "id": "adaptive-watson",
   "metadata": {},
   "outputs": [],
   "source": []
  }
 ],
 "metadata": {
  "kernelspec": {
   "display_name": "Python 3",
   "language": "python",
   "name": "python3"
  },
  "language_info": {
   "codemirror_mode": {
    "name": "ipython",
    "version": 3
   },
   "file_extension": ".py",
   "mimetype": "text/x-python",
   "name": "python",
   "nbconvert_exporter": "python",
   "pygments_lexer": "ipython3",
   "version": "3.9.2"
  }
 },
 "nbformat": 4,
 "nbformat_minor": 5
}
