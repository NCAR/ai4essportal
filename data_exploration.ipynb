{
 "cells": [
  {
   "cell_type": "markdown",
   "id": "resident-entity",
   "metadata": {},
   "source": [
    "# Exploratatory Analysis of the GECKO-A data set\n",
    "\n",
    "Before we can apply any machine learning techniques, we need to explore the data available. Data is almost always presented in a way that makes building a model difficult if not impossible. This can be due to missing data, incorrect data types, variability in values between features that make modeling difficult, or any other number of reasons. We're going to start with loading the dataset. Then we will do some initial analysis of the data. How is it typed? What is the [Tukey 5-number Summary](https://machinelearningmastery.com/how-to-calculate-the-5-number-summary-for-your-data-in-python/#:~:text=The%20five%2Dnumber%20summary%2C%20or,for%20data%20with%20any%20distribution.)? How is the data distributed? Are the data in the features correlated? Then we move on to how we can scale and normalize the data to better help our algorithms solve for a model that can hopefully generalize well."
   ]
  },
  {
   "cell_type": "markdown",
   "id": "upset-labor",
   "metadata": {},
   "source": [
    "## Loading the data\n",
    "\n",
    "We are going to be using the GECKO-A data. \n",
    "\n",
    "**Note that in the future I am going to want to implement a way to publicly retrieve this data. Also it may be stored in the parquet format rather than csv**"
   ]
  },
  {
   "cell_type": "code",
   "execution_count": 167,
   "id": "preliminary-trance",
   "metadata": {},
   "outputs": [],
   "source": [
    "# We're going to use the very popular pandas library to import our data\n",
    "import pandas as pd\n",
    "import numpy as np\n",
    "import matplotlib.pylab as plt\n",
    "from scipy import stats\n",
    "from sklearn.preprocessing import StandardScaler\n",
    "import sklearn\n",
    "%matplotlib inline"
   ]
  },
  {
   "cell_type": "code",
   "execution_count": 2,
   "id": "spare-lyric",
   "metadata": {},
   "outputs": [],
   "source": [
    "file_path = \"/glade/p/cisl/aiml/gecko/ML2019_toluene_postproc_NEW/ML2019_toluene_ML2019_Exp1000.csv\""
   ]
  },
  {
   "cell_type": "markdown",
   "id": "precise-hearing",
   "metadata": {},
   "source": [
    "We can load the data and take a peek using the pd.head() function. "
   ]
  },
  {
   "cell_type": "code",
   "execution_count": 3,
   "id": "judicial-difficulty",
   "metadata": {},
   "outputs": [
    {
     "data": {
      "text/html": [
       "<div>\n",
       "<style scoped>\n",
       "    .dataframe tbody tr th:only-of-type {\n",
       "        vertical-align: middle;\n",
       "    }\n",
       "\n",
       "    .dataframe tbody tr th {\n",
       "        vertical-align: top;\n",
       "    }\n",
       "\n",
       "    .dataframe thead th {\n",
       "        text-align: right;\n",
       "    }\n",
       "</style>\n",
       "<table border=\"1\" class=\"dataframe\">\n",
       "  <thead>\n",
       "    <tr style=\"text-align: right;\">\n",
       "      <th></th>\n",
       "      <th>Time [s]</th>\n",
       "      <th>Precursor [ug/m3]</th>\n",
       "      <th>Temperature [K]</th>\n",
       "      <th>OH [molec/cm3]</th>\n",
       "      <th>O3 [molec/cm3]</th>\n",
       "      <th>NOx [molec/cm3]</th>\n",
       "      <th>SZA [degree]</th>\n",
       "      <th>Gas [ug/m3] Bin01: lg(C*) = -6.5</th>\n",
       "      <th>Gas [ug/m3] Bin02: lg(C*) = -5.5</th>\n",
       "      <th>Gas [ug/m3] Bin03: lg(C*) = -4.5</th>\n",
       "      <th>...</th>\n",
       "      <th>N/C Bin05: lg(C*) = -2.5</th>\n",
       "      <th>N/C Bin06: lg(C*) = -1.5</th>\n",
       "      <th>N/C Bin07: lg(C*) = -0.5</th>\n",
       "      <th>N/C Bin08: lg(C*) =  0.5</th>\n",
       "      <th>N/C Bin09: lg(C*) =  1.5</th>\n",
       "      <th>N/C Bin10: lg(C*) =  2.5</th>\n",
       "      <th>N/C Bin11: lg(C*) =  3.5</th>\n",
       "      <th>N/C Bin12: lg(C*) =  4.5</th>\n",
       "      <th>N/C Bin13: lg(C*) =  5.5</th>\n",
       "      <th>N/C Bin14: lg(C*) =  6.5</th>\n",
       "    </tr>\n",
       "  </thead>\n",
       "  <tbody>\n",
       "    <tr>\n",
       "      <th>0</th>\n",
       "      <td>1.000000</td>\n",
       "      <td>0.037689</td>\n",
       "      <td>298.179718</td>\n",
       "      <td>2634522.0</td>\n",
       "      <td>2.865347e+12</td>\n",
       "      <td>1.738747e+10</td>\n",
       "      <td>156.839686</td>\n",
       "      <td>0.000000e+00</td>\n",
       "      <td>0.000000e+00</td>\n",
       "      <td>0.000000e+00</td>\n",
       "      <td>...</td>\n",
       "      <td>0.000000</td>\n",
       "      <td>0.000000</td>\n",
       "      <td>0.000000</td>\n",
       "      <td>0.000000</td>\n",
       "      <td>0.000000</td>\n",
       "      <td>0.000000</td>\n",
       "      <td>0.000000</td>\n",
       "      <td>0.000000</td>\n",
       "      <td>0.000000</td>\n",
       "      <td>0.000000</td>\n",
       "    </tr>\n",
       "    <tr>\n",
       "      <th>1</th>\n",
       "      <td>301.207794</td>\n",
       "      <td>0.037522</td>\n",
       "      <td>298.179718</td>\n",
       "      <td>2634522.0</td>\n",
       "      <td>2.865347e+12</td>\n",
       "      <td>2.857613e+11</td>\n",
       "      <td>156.845342</td>\n",
       "      <td>1.437334e-17</td>\n",
       "      <td>1.239800e-12</td>\n",
       "      <td>5.477925e-13</td>\n",
       "      <td>...</td>\n",
       "      <td>0.276480</td>\n",
       "      <td>0.196323</td>\n",
       "      <td>0.146863</td>\n",
       "      <td>0.211432</td>\n",
       "      <td>0.079300</td>\n",
       "      <td>0.143338</td>\n",
       "      <td>0.010915</td>\n",
       "      <td>0.137913</td>\n",
       "      <td>0.080868</td>\n",
       "      <td>0.000905</td>\n",
       "    </tr>\n",
       "    <tr>\n",
       "      <th>2</th>\n",
       "      <td>601.415588</td>\n",
       "      <td>0.037355</td>\n",
       "      <td>298.092407</td>\n",
       "      <td>2634522.0</td>\n",
       "      <td>2.865347e+12</td>\n",
       "      <td>5.082960e+11</td>\n",
       "      <td>156.787255</td>\n",
       "      <td>1.273297e-17</td>\n",
       "      <td>1.094499e-12</td>\n",
       "      <td>4.821359e-13</td>\n",
       "      <td>...</td>\n",
       "      <td>0.278963</td>\n",
       "      <td>0.139626</td>\n",
       "      <td>0.038531</td>\n",
       "      <td>0.229156</td>\n",
       "      <td>0.093255</td>\n",
       "      <td>0.146419</td>\n",
       "      <td>0.032462</td>\n",
       "      <td>0.137106</td>\n",
       "      <td>0.051741</td>\n",
       "      <td>0.001997</td>\n",
       "    </tr>\n",
       "    <tr>\n",
       "      <th>3</th>\n",
       "      <td>901.623352</td>\n",
       "      <td>0.037189</td>\n",
       "      <td>298.005127</td>\n",
       "      <td>2634522.0</td>\n",
       "      <td>2.865347e+12</td>\n",
       "      <td>6.930831e+11</td>\n",
       "      <td>156.665902</td>\n",
       "      <td>1.144432e-17</td>\n",
       "      <td>9.674742e-13</td>\n",
       "      <td>4.288795e-13</td>\n",
       "      <td>...</td>\n",
       "      <td>0.281173</td>\n",
       "      <td>0.080940</td>\n",
       "      <td>0.038050</td>\n",
       "      <td>0.244181</td>\n",
       "      <td>0.098729</td>\n",
       "      <td>0.151842</td>\n",
       "      <td>0.056919</td>\n",
       "      <td>0.136595</td>\n",
       "      <td>0.040094</td>\n",
       "      <td>0.003167</td>\n",
       "    </tr>\n",
       "    <tr>\n",
       "      <th>4</th>\n",
       "      <td>1201.831177</td>\n",
       "      <td>0.037024</td>\n",
       "      <td>297.917938</td>\n",
       "      <td>2634522.0</td>\n",
       "      <td>2.865347e+12</td>\n",
       "      <td>8.467239e+11</td>\n",
       "      <td>156.482265</td>\n",
       "      <td>1.085807e-17</td>\n",
       "      <td>8.611497e-13</td>\n",
       "      <td>3.972799e-13</td>\n",
       "      <td>...</td>\n",
       "      <td>0.282642</td>\n",
       "      <td>0.058053</td>\n",
       "      <td>0.046640</td>\n",
       "      <td>0.258280</td>\n",
       "      <td>0.101695</td>\n",
       "      <td>0.159428</td>\n",
       "      <td>0.079230</td>\n",
       "      <td>0.136029</td>\n",
       "      <td>0.035332</td>\n",
       "      <td>0.004402</td>\n",
       "    </tr>\n",
       "  </tbody>\n",
       "</table>\n",
       "<p>5 rows × 133 columns</p>\n",
       "</div>"
      ],
      "text/plain": [
       "      Time [s]   Precursor [ug/m3]   Temperature [K]   OH [molec/cm3]  \\\n",
       "0     1.000000            0.037689        298.179718        2634522.0   \n",
       "1   301.207794            0.037522        298.179718        2634522.0   \n",
       "2   601.415588            0.037355        298.092407        2634522.0   \n",
       "3   901.623352            0.037189        298.005127        2634522.0   \n",
       "4  1201.831177            0.037024        297.917938        2634522.0   \n",
       "\n",
       "    O3 [molec/cm3]   NOx [molec/cm3]   SZA [degree]  \\\n",
       "0     2.865347e+12      1.738747e+10     156.839686   \n",
       "1     2.865347e+12      2.857613e+11     156.845342   \n",
       "2     2.865347e+12      5.082960e+11     156.787255   \n",
       "3     2.865347e+12      6.930831e+11     156.665902   \n",
       "4     2.865347e+12      8.467239e+11     156.482265   \n",
       "\n",
       "    Gas [ug/m3] Bin01: lg(C*) = -6.5   Gas [ug/m3] Bin02: lg(C*) = -5.5  \\\n",
       "0                       0.000000e+00                       0.000000e+00   \n",
       "1                       1.437334e-17                       1.239800e-12   \n",
       "2                       1.273297e-17                       1.094499e-12   \n",
       "3                       1.144432e-17                       9.674742e-13   \n",
       "4                       1.085807e-17                       8.611497e-13   \n",
       "\n",
       "    Gas [ug/m3] Bin03: lg(C*) = -4.5  ...   N/C Bin05: lg(C*) = -2.5  \\\n",
       "0                       0.000000e+00  ...                   0.000000   \n",
       "1                       5.477925e-13  ...                   0.276480   \n",
       "2                       4.821359e-13  ...                   0.278963   \n",
       "3                       4.288795e-13  ...                   0.281173   \n",
       "4                       3.972799e-13  ...                   0.282642   \n",
       "\n",
       "    N/C Bin06: lg(C*) = -1.5   N/C Bin07: lg(C*) = -0.5  \\\n",
       "0                   0.000000                   0.000000   \n",
       "1                   0.196323                   0.146863   \n",
       "2                   0.139626                   0.038531   \n",
       "3                   0.080940                   0.038050   \n",
       "4                   0.058053                   0.046640   \n",
       "\n",
       "    N/C Bin08: lg(C*) =  0.5   N/C Bin09: lg(C*) =  1.5  \\\n",
       "0                   0.000000                   0.000000   \n",
       "1                   0.211432                   0.079300   \n",
       "2                   0.229156                   0.093255   \n",
       "3                   0.244181                   0.098729   \n",
       "4                   0.258280                   0.101695   \n",
       "\n",
       "    N/C Bin10: lg(C*) =  2.5   N/C Bin11: lg(C*) =  3.5  \\\n",
       "0                   0.000000                   0.000000   \n",
       "1                   0.143338                   0.010915   \n",
       "2                   0.146419                   0.032462   \n",
       "3                   0.151842                   0.056919   \n",
       "4                   0.159428                   0.079230   \n",
       "\n",
       "    N/C Bin12: lg(C*) =  4.5   N/C Bin13: lg(C*) =  5.5  \\\n",
       "0                   0.000000                   0.000000   \n",
       "1                   0.137913                   0.080868   \n",
       "2                   0.137106                   0.051741   \n",
       "3                   0.136595                   0.040094   \n",
       "4                   0.136029                   0.035332   \n",
       "\n",
       "    N/C Bin14: lg(C*) =  6.5                                                                                                        \n",
       "0                                           0.000000                                                                                \n",
       "1                                           0.000905                                                                                \n",
       "2                                           0.001997                                                                                \n",
       "3                                           0.003167                                                                                \n",
       "4                                           0.004402                                                                                \n",
       "\n",
       "[5 rows x 133 columns]"
      ]
     },
     "execution_count": 3,
     "metadata": {},
     "output_type": "execute_result"
    }
   ],
   "source": [
    "dataFrame = pd.read_csv(file_path)\n",
    "dataFrame.head()"
   ]
  },
  {
   "cell_type": "markdown",
   "id": "identified-ground",
   "metadata": {},
   "source": [
    "Already we can see what features are included in the data and get an idea of variablity in scale. Let's do some further formal investigation."
   ]
  },
  {
   "cell_type": "code",
   "execution_count": 4,
   "id": "further-generator",
   "metadata": {},
   "outputs": [
    {
     "name": "stdout",
     "output_type": "stream",
     "text": [
      "<class 'pandas.core.frame.DataFrame'>\n",
      "RangeIndex: 1440 entries, 0 to 1439\n",
      "Data columns (total 133 columns):\n",
      " #    Column                                                                                                                           Dtype  \n",
      "---   ------                                                                                                                           -----  \n",
      " 0     Time [s]                                                                                                                        float64\n",
      " 1     Precursor [ug/m3]                                                                                                               float64\n",
      " 2     Temperature [K]                                                                                                                 float64\n",
      " 3     OH [molec/cm3]                                                                                                                  float64\n",
      " 4     O3 [molec/cm3]                                                                                                                  float64\n",
      " 5     NOx [molec/cm3]                                                                                                                 float64\n",
      " 6     SZA [degree]                                                                                                                    float64\n",
      " 7     Gas [ug/m3] Bin01: lg(C*) = -6.5                                                                                                float64\n",
      " 8     Gas [ug/m3] Bin02: lg(C*) = -5.5                                                                                                float64\n",
      " 9     Gas [ug/m3] Bin03: lg(C*) = -4.5                                                                                                float64\n",
      " 10    Gas [ug/m3] Bin04: lg(C*) = -3.5                                                                                                float64\n",
      " 11    Gas [ug/m3] Bin05: lg(C*) = -2.5                                                                                                float64\n",
      " 12    Gas [ug/m3] Bin06: lg(C*) = -1.5                                                                                                float64\n",
      " 13    Gas [ug/m3] Bin07: lg(C*) = -0.5                                                                                                float64\n",
      " 14    Gas [ug/m3] Bin08: lg(C*) =  0.5                                                                                                float64\n",
      " 15    Gas [ug/m3] Bin09: lg(C*) =  1.5                                                                                                float64\n",
      " 16    Gas [ug/m3] Bin10: lg(C*) =  2.5                                                                                                float64\n",
      " 17    Gas [ug/m3] Bin11: lg(C*) =  3.5                                                                                                float64\n",
      " 18    Gas [ug/m3] Bin12: lg(C*) =  4.5                                                                                                float64\n",
      " 19    Gas [ug/m3] Bin13: lg(C*) =  5.5                                                                                                float64\n",
      " 20    Gas [ug/m3] Bin14: lg(C*) =  6.5                                                                                                float64\n",
      " 21    Aerosol [ug_m3] Bin01: lg(C*) = -6.5                                                                                            float64\n",
      " 22    Aerosol [ug_m3] Bin02: lg(C*) = -5.5                                                                                            float64\n",
      " 23    Aerosol [ug_m3] Bin03: lg(C*) = -4.5                                                                                            float64\n",
      " 24    Aerosol [ug_m3] Bin04: lg(C*) = -3.5                                                                                            float64\n",
      " 25    Aerosol [ug_m3] Bin05: lg(C*) = -2.5                                                                                            float64\n",
      " 26    Aerosol [ug_m3] Bin06: lg(C*) = -1.5                                                                                            float64\n",
      " 27    Aerosol [ug_m3] Bin07: lg(C*) = -0.5                                                                                            float64\n",
      " 28    Aerosol [ug_m3] Bin08: lg(C*) =  0.5                                                                                            float64\n",
      " 29    Aerosol [ug_m3] Bin09: lg(C*) =  1.5                                                                                            float64\n",
      " 30    Aerosol [ug_m3] Bin10: lg(C*) =  2.5                                                                                            float64\n",
      " 31    Aerosol [ug_m3] Bin11: lg(C*) =  3.5                                                                                            float64\n",
      " 32    Aerosol [ug_m3] Bin12: lg(C*) =  4.5                                                                                            float64\n",
      " 33    Aerosol [ug_m3] Bin13: lg(C*) =  5.5                                                                                            float64\n",
      " 34    Aerosol [ug_m3] Bin14: lg(C*) =  6.5                                                                                            float64\n",
      " 35    Kh [M/atm] Bin01: lg(C*) = -6.5                                                                                                 float64\n",
      " 36    Kh [M/atm] Bin02: lg(C*) = -5.5                                                                                                 float64\n",
      " 37    Kh [M/atm] Bin03: lg(C*) = -4.5                                                                                                 float64\n",
      " 38    Kh [M/atm] Bin04: lg(C*) = -3.5                                                                                                 float64\n",
      " 39    Kh [M/atm] Bin05: lg(C*) = -2.5                                                                                                 float64\n",
      " 40    Kh [M/atm] Bin06: lg(C*) = -1.5                                                                                                 float64\n",
      " 41    Kh [M/atm] Bin07: lg(C*) = -0.5                                                                                                 float64\n",
      " 42    Kh [M/atm] Bin08: lg(C*) =  0.5                                                                                                 float64\n",
      " 43    Kh [M/atm] Bin09: lg(C*) =  1.5                                                                                                 float64\n",
      " 44    Kh [M/atm] Bin10: lg(C*) =  2.5                                                                                                 float64\n",
      " 45    Kh [M/atm] Bin11: lg(C*) =  3.5                                                                                                 float64\n",
      " 46    Kh [M/atm] Bin12: lg(C*) =  4.5                                                                                                 float64\n",
      " 47    Kh [M/atm] Bin13: lg(C*) =  5.5                                                                                                 float64\n",
      " 48    Kh [M/atm] Bin14: lg(C*) =  6.5                                                                                                 float64\n",
      " 49    MW [g/mol] Bin01: lg(C*) = -6.5                                                                                                 float64\n",
      " 50    MW [g/mol] Bin02: lg(C*) = -5.5                                                                                                 float64\n",
      " 51    MW [g/mol] Bin03: lg(C*) = -4.5                                                                                                 float64\n",
      " 52    MW [g/mol] Bin04: lg(C*) = -3.5                                                                                                 float64\n",
      " 53    MW [g/mol] Bin05: lg(C*) = -2.5                                                                                                 float64\n",
      " 54    MW [g/mol] Bin06: lg(C*) = -1.5                                                                                                 float64\n",
      " 55    MW [g/mol] Bin07: lg(C*) = -0.5                                                                                                 float64\n",
      " 56    MW [g/mol] Bin08: lg(C*) =  0.5                                                                                                 float64\n",
      " 57    MW [g/mol] Bin09: lg(C*) =  1.5                                                                                                 float64\n",
      " 58    MW [g/mol] Bin10: lg(C*) =  2.5                                                                                                 float64\n",
      " 59    MW [g/mol] Bin11: lg(C*) =  3.5                                                                                                 float64\n",
      " 60    MW [g/mol] Bin12: lg(C*) =  4.5                                                                                                 float64\n",
      " 61    MW [g/mol] Bin13: lg(C*) =  5.5                                                                                                 float64\n",
      " 62    MW [g/mol] Bin14: lg(C*) =  6.5                                                                                                 float64\n",
      " 63    dH [J/mol] Bin01: lg(C*) = -6.5                                                                                                 float64\n",
      " 64    dH [J/mol] Bin02: lg(C*) = -5.5                                                                                                 float64\n",
      " 65    dH [J/mol] Bin03: lg(C*) = -4.5                                                                                                 float64\n",
      " 66    dH [J/mol] Bin04: lg(C*) = -3.5                                                                                                 float64\n",
      " 67    dH [J/mol] Bin05: lg(C*) = -2.5                                                                                                 float64\n",
      " 68    dH [J/mol] Bin06: lg(C*) = -1.5                                                                                                 float64\n",
      " 69    dH [J/mol] Bin07: lg(C*) = -0.5                                                                                                 float64\n",
      " 70    dH [J/mol] Bin08: lg(C*) =  0.5                                                                                                 float64\n",
      " 71    dH [J/mol] Bin09: lg(C*) =  1.5                                                                                                 float64\n",
      " 72    dH [J/mol] Bin10: lg(C*) =  2.5                                                                                                 float64\n",
      " 73    dH [J/mol] Bin11: lg(C*) =  3.5                                                                                                 float64\n",
      " 74    dH [J/mol] Bin12: lg(C*) =  4.5                                                                                                 float64\n",
      " 75    dH [J/mol] Bin13: lg(C*) =  5.5                                                                                                 float64\n",
      " 76    dH [J/mol] Bin14: lg(C*) =  6.5                                                                                                 float64\n",
      " 77    kOH [cm3/molec/s] Bin01: lg(C*) = -6.5                                                                                          float64\n",
      " 78    kOH [cm3/molec/s] Bin02: lg(C*) = -5.5                                                                                          float64\n",
      " 79    kOH [cm3/molec/s] Bin03: lg(C*) = -4.5                                                                                          float64\n",
      " 80    kOH [cm3/molec/s] Bin04: lg(C*) = -3.5                                                                                          float64\n",
      " 81    kOH [cm3/molec/s] Bin05: lg(C*) = -2.5                                                                                          float64\n",
      " 82    kOH [cm3/molec/s] Bin06: lg(C*) = -1.5                                                                                          float64\n",
      " 83    kOH [cm3/molec/s] Bin07: lg(C*) = -0.5                                                                                          float64\n",
      " 84    kOH [cm3/molec/s] Bin08: lg(C*) =  0.5                                                                                          float64\n",
      " 85    kOH [cm3/molec/s] Bin09: lg(C*) =  1.5                                                                                          float64\n",
      " 86    kOH [cm3/molec/s] Bin10: lg(C*) =  2.5                                                                                          float64\n",
      " 87    kOH [cm3/molec/s] Bin11: lg(C*) =  3.5                                                                                          float64\n",
      " 88    kOH [cm3/molec/s] Bin12: lg(C*) =  4.5                                                                                          float64\n",
      " 89    kOH [cm3/molec/s] Bin13: lg(C*) =  5.5                                                                                          float64\n",
      " 90    kOH [cm3/molec/s] Bin14: lg(C*) =  6.5                                                                                          float64\n",
      " 91    O/C Bin01: lg(C*) = -6.5                                                                                                        float64\n",
      " 92    O/C Bin02: lg(C*) = -5.5                                                                                                        float64\n",
      " 93    O/C Bin03: lg(C*) = -4.5                                                                                                        float64\n",
      " 94    O/C Bin04: lg(C*) = -3.5                                                                                                        float64\n",
      " 95    O/C Bin05: lg(C*) = -2.5                                                                                                        float64\n",
      " 96    O/C Bin06: lg(C*) = -1.5                                                                                                        float64\n",
      " 97    O/C Bin07: lg(C*) = -0.5                                                                                                        float64\n",
      " 98    O/C Bin08: lg(C*) =  0.5                                                                                                        float64\n",
      " 99    O/C Bin09: lg(C*) =  1.5                                                                                                        float64\n",
      " 100   O/C Bin10: lg(C*) =  2.5                                                                                                        float64\n",
      " 101   O/C Bin11: lg(C*) =  3.5                                                                                                        float64\n",
      " 102   O/C Bin12: lg(C*) =  4.5                                                                                                        float64\n",
      " 103   O/C Bin13: lg(C*) =  5.5                                                                                                        float64\n",
      " 104   O/C Bin14: lg(C*) =  6.5                                                                                                        float64\n",
      " 105   H/C Bin01: lg(C*) = -6.5                                                                                                        float64\n",
      " 106   H/C Bin02: lg(C*) = -5.5                                                                                                        float64\n",
      " 107   H/C Bin03: lg(C*) = -4.5                                                                                                        float64\n",
      " 108   H/C Bin04: lg(C*) = -3.5                                                                                                        float64\n",
      " 109   H/C Bin05: lg(C*) = -2.5                                                                                                        float64\n",
      " 110   H/C Bin06: lg(C*) = -1.5                                                                                                        float64\n",
      " 111   H/C Bin07: lg(C*) = -0.5                                                                                                        float64\n",
      " 112   H/C Bin08: lg(C*) =  0.5                                                                                                        float64\n",
      " 113   H/C Bin09: lg(C*) =  1.5                                                                                                        float64\n",
      " 114   H/C Bin10: lg(C*) =  2.5                                                                                                        float64\n",
      " 115   H/C Bin11: lg(C*) =  3.5                                                                                                        float64\n",
      " 116   H/C Bin12: lg(C*) =  4.5                                                                                                        float64\n",
      " 117   H/C Bin13: lg(C*) =  5.5                                                                                                        float64\n",
      " 118   H/C Bin14: lg(C*) =  6.5                                                                                                        float64\n",
      " 119   N/C Bin01: lg(C*) = -6.5                                                                                                        float64\n",
      " 120   N/C Bin02: lg(C*) = -5.5                                                                                                        float64\n",
      " 121   N/C Bin03: lg(C*) = -4.5                                                                                                        float64\n",
      " 122   N/C Bin04: lg(C*) = -3.5                                                                                                        float64\n",
      " 123   N/C Bin05: lg(C*) = -2.5                                                                                                        float64\n",
      " 124   N/C Bin06: lg(C*) = -1.5                                                                                                        float64\n",
      " 125   N/C Bin07: lg(C*) = -0.5                                                                                                        float64\n",
      " 126   N/C Bin08: lg(C*) =  0.5                                                                                                        float64\n",
      " 127   N/C Bin09: lg(C*) =  1.5                                                                                                        float64\n",
      " 128   N/C Bin10: lg(C*) =  2.5                                                                                                        float64\n",
      " 129   N/C Bin11: lg(C*) =  3.5                                                                                                        float64\n",
      " 130   N/C Bin12: lg(C*) =  4.5                                                                                                        float64\n",
      " 131   N/C Bin13: lg(C*) =  5.5                                                                                                        float64\n",
      " 132   N/C Bin14: lg(C*) =  6.5                                                                                                        float64\n",
      "dtypes: float64(133)\n",
      "memory usage: 1.5 MB\n"
     ]
    }
   ],
   "source": [
    "dataFrame.info(verbose=True)"
   ]
  },
  {
   "cell_type": "code",
   "execution_count": 5,
   "id": "cleared-complaint",
   "metadata": {},
   "outputs": [],
   "source": [
    "mean_list = [dataFrame[x].mean() for x in dataFrame]\n",
    "variane_list = [dataFrame[x].var(ddof=1) for x in dataFrame]"
   ]
  },
  {
   "cell_type": "code",
   "execution_count": 6,
   "id": "enhanced-extent",
   "metadata": {},
   "outputs": [
    {
     "data": {
      "image/png": "[encoded data removed]",
      "text/plain": [
       "<Figure size 432x288 with 1 Axes>"
      ]
     },
     "metadata": {
      "needs_background": "light"
     },
     "output_type": "display_data"
    }
   ],
   "source": [
    "_ = plt.hist([mean_list,variane_list]);\n",
    "plt.show()"
   ]
  },
  {
   "cell_type": "markdown",
   "id": "intellectual-disclosure",
   "metadata": {},
   "source": [
    "We can already see that there are 133 features in this matrix of data, there are 1440 time steps and the data is not well distributed at all."
   ]
  },
  {
   "cell_type": "markdown",
   "id": "thorough-education",
   "metadata": {},
   "source": [
    "There are a few ways we can distribute the data a little better. It's much easier to work with something that follows somewhat of a gaussian distribution. like the following:"
   ]
  },
  {
   "cell_type": "code",
   "execution_count": 23,
   "id": "proud-audit",
   "metadata": {},
   "outputs": [
    {
     "data": {
      "image/png": "[encoded data removed]",
      "text/plain": [
       "<Figure size 432x288 with 1 Axes>"
      ]
     },
     "metadata": {
      "needs_background": "light"
     },
     "output_type": "display_data"
    }
   ],
   "source": [
    "# Plot between -1 and 1 with .001 steps.\n",
    "x_axis = np.arange(-1, 1, 0.001)\n",
    "# Mean = 0, SD = 2.\n",
    "plt.plot(x_axis, stats.norm.pdf(x_axis,0,0.3))\n",
    "plt.show()"
   ]
  },
  {
   "cell_type": "code",
   "execution_count": 156,
   "id": "spoken-cameroon",
   "metadata": {},
   "outputs": [
    {
     "name": "stdout",
     "output_type": "stream",
     "text": [
      "[' Gas [ug/m3] Bin06: lg(C*) = -1.5' ' O/C Bin13: lg(C*) =  5.5'\n",
      " ' MW [g/mol] Bin13: lg(C*) =  5.5' ' Kh [M/atm] Bin03: lg(C*) = -4.5'\n",
      " ' N/C Bin03: lg(C*) = -4.5' ' Gas [ug/m3] Bin05: lg(C*) = -2.5'\n",
      " ' Aerosol [ug_m3] Bin13: lg(C*) =  5.5'\n",
      " ' Kh [M/atm] Bin05: lg(C*) = -2.5' ' dH [J/mol] Bin14: lg(C*) =  6.5'\n",
      " ' Gas [ug/m3] Bin04: lg(C*) = -3.5']\n"
     ]
    }
   ],
   "source": [
    "sample = np.random.choice(dataFrame.columns, size = 10)\n",
    "print(sample)"
   ]
  },
  {
   "cell_type": "code",
   "execution_count": 157,
   "id": "separated-entity",
   "metadata": {},
   "outputs": [
    {
     "data": {
      "image/png": "[encoded data removed]",
      "text/plain": [
       "<Figure size 432x288 with 1 Axes>"
      ]
     },
     "metadata": {
      "needs_background": "light"
     },
     "output_type": "display_data"
    }
   ],
   "source": [
    "sampled_data = dataFrame.loc[:,sample]\n",
    "_ = plt.hist(sampled_data)"
   ]
  },
  {
   "cell_type": "code",
   "execution_count": 158,
   "id": "still-office",
   "metadata": {},
   "outputs": [],
   "source": [
    "scaler = StandardScaler()\n",
    "scaler  = scaler.fit(sampled_data)\n",
    "sampled_data_scaled = scaler.transform(sampled_data)"
   ]
  },
  {
   "cell_type": "code",
   "execution_count": 161,
   "id": "wanted-civilization",
   "metadata": {},
   "outputs": [
    {
     "data": {
      "image/png": "[encoded data removed]",
      "text/plain": [
       "<Figure size 432x288 with 1 Axes>"
      ]
     },
     "metadata": {
      "needs_background": "light"
     },
     "output_type": "display_data"
    }
   ],
   "source": [
    "_ = plt.hist(sampled_data_scaled, bins = 15, range = [-5,5])"
   ]
  },
  {
   "cell_type": "code",
   "execution_count": 177,
   "id": "alike-pursuit",
   "metadata": {},
   "outputs": [],
   "source": [
    "dataFrameArray = dataFrame.loc[::].values"
   ]
  },
  {
   "cell_type": "code",
   "execution_count": 189,
   "id": "shaped-morris",
   "metadata": {},
   "outputs": [
    {
     "data": {
      "image/png": "[encoded data removed]",
      "text/plain": [
       "<Figure size 432x288 with 1 Axes>"
      ]
     },
     "metadata": {
      "needs_background": "light"
     },
     "output_type": "display_data"
    }
   ],
   "source": [
    "pca = sklearn.decomposition.PCA(n_components=130)\n",
    "pca.fit(dataFrameArray)\n",
    "X = pca.transform(dataFrameArray)\n",
    "_ = plt.hist(X, range = [-2,2], bins = 20)"
   ]
  },
  {
   "cell_type": "code",
   "execution_count": null,
   "id": "bored-progress",
   "metadata": {},
   "outputs": [],
   "source": []
  }
 ],
 "metadata": {
  "kernelspec": {
   "display_name": "Python 3",
   "language": "python",
   "name": "python3"
  },
  "language_info": {
   "codemirror_mode": {
    "name": "ipython",
    "version": 3
   },
   "file_extension": ".py",
   "mimetype": "text/x-python",
   "name": "python",
   "nbconvert_exporter": "python",
   "pygments_lexer": "ipython3",
   "version": "3.9.2"
  }
 },
 "nbformat": 4,
 "nbformat_minor": 5
}
