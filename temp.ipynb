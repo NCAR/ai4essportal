{
 "cells": [
  {
   "cell_type": "code",
   "execution_count": 57,
   "id": "ebc7bfcb-b951-42df-a895-600ba912671b",
   "metadata": {},
   "outputs": [],
   "source": [
    "import csv\n",
    "import json\n",
    "import uuid\n",
    "\n",
    "def csv_to_jsonL(inFile, outFile, hasHeader, fieldNames):\n",
    "\n",
    "    csvfile = open(inFile, 'r')\n",
    "    jsonfile = open(outFile, 'w')\n",
    "    \n",
    "    if hasHeader:\n",
    "        reader = csv.DictReader(csvfile)\n",
    "    else:\n",
    "        reader = csv.DictReader(csvfile, fieldNames)\n",
    "        \n",
    "    for data in reader:\n",
    "        id = str(uuid.uuid4())\n",
    "        json_line = {\n",
    "          \"id\": {\"id\" : id},\n",
    "          \"operation\": \"INSERT\",\n",
    "          \"data\": data\n",
    "        }\n",
    "\n",
    "        json.dump(json_line, jsonfile)\n",
    "        jsonfile.write('\\n')\n",
    "\n",
    "    jsonfile.close()\n",
    "    csvfile.close()\n",
    "    \n",
    "csv_to_jsonL(\"./titanic_data.csv\", \"./temp2.jsonl\", hasHeader=True, fieldNames = None)"
   ]
  },
  {
   "cell_type": "code",
   "execution_count": 58,
   "id": "a5d64212-06a4-4ba6-8d46-99dcabbca3c8",
   "metadata": {},
   "outputs": [],
   "source": [
    "csv_to_jsonL(\"./titanic_data.csv\", \"./temp2.jsonl\", hasHeader=True, fieldNames = None)"
   ]
  },
  {
   "cell_type": "code",
   "execution_count": null,
   "id": "d38b2029-1889-457e-885a-bad2c715adc3",
   "metadata": {},
   "outputs": [],
   "source": [
    "hasHeader = input(\"True/ False\")\n",
    "print(hasHeader)"
   ]
  },
  {
   "cell_type": "code",
   "execution_count": null,
   "id": "37c629b9-ace2-4d52-a29c-db8393a27178",
   "metadata": {},
   "outputs": [],
   "source": [
    "hasHeader"
   ]
  },
  {
   "cell_type": "code",
   "execution_count": null,
   "id": "f34efff2-c5a8-4a7d-b0de-8c730c6af5d6",
   "metadata": {},
   "outputs": [],
   "source": []
  }
 ],
 "metadata": {
  "kernelspec": {
   "display_name": "Python 3",
   "language": "python",
   "name": "python3"
  },
  "language_info": {
   "codemirror_mode": {
    "name": "ipython",
    "version": 3
   },
   "file_extension": ".py",
   "mimetype": "text/x-python",
   "name": "python",
   "nbconvert_exporter": "python",
   "pygments_lexer": "ipython3",
   "version": "3.9.4"
  }
 },
 "nbformat": 4,
 "nbformat_minor": 5
}
