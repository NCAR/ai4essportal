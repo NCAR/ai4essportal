{
 "cells": [
  {
   "cell_type": "markdown",
   "id": "1ea4f37c-74e4-4395-b865-03a6c6edaea2",
   "metadata": {},
   "source": [
    "# NB2: Choosing and Training a Model\n",
    "\n",
    "## Constructing a basic linear model\n",
    "\n",
    "So far we have peeked at the data and applied two scaling techniques. Let's construct a very basic model to predict precursor at t+n where t is the previous timestep and n represent the lead time. Lead time being t_delta between observation and prediction.\n",
    "\n",
    "For our model we are give a matrix of predictors **X** and a vector of **y**. We are trying to solve for model *w* which minimizes the following:\n",
    "\n",
    "$$\\text{min}||Xw-y||^2 $$\n",
    "\n",
    "There will me more on this later. Let's just abstract away model building for now so we can see the importance of feature scaling and normalization.\n",
    "\n",
    "The general steps here will be.\n",
    "\n",
    "*Step 1*: Build X and y\n",
    "\n",
    "*Step 2*: Separate data into a training set, valuation set, and test set. (There is a bit of technique in this, but we will make this simple for now.)\n",
    "\n",
    "*Step 3*: Use the training set to develop a model that will generalize to the valuation set. \n",
    "\n",
    "*Step 4*: Apply changes as necessary to avoid underfitting and overfitting. (More on this later.)\n",
    "\n",
    "*Step 5*: Apply your model to the test set."
   ]
  },
  {
   "cell_type": "markdown",
   "id": "a178428b-ac36-44af-a75c-c96f30bc177a",
   "metadata": {},
   "source": [
    "### Helper"
   ]
  },
  {
   "cell_type": "code",
   "execution_count": 83,
   "id": "e9f6c1f8",
   "metadata": {},
   "outputs": [],
   "source": [
    "%matplotlib inline\n",
    "import xarray as xr\n",
    "import pandas as pd\n",
    "import numpy as np\n",
    "from matplotlib import pyplot as plt\n",
    "import sklearn\n",
    "import sklearn.ensemble\n",
    "import scipy.stats\n",
    "from sklearn.model_selection import train_test_split\n",
    "from tqdm import tqdm\n",
    "import xarray as xr\n",
    "import pandas as pd\n",
    "import numpy as np\n",
    "from matplotlib import pyplot as plt\n",
    "import sklearn\n",
    "import sklearn.ensemble\n",
    "import scipy.stats\n",
    "from sklearn.model_selection import train_test_split \n",
    "import torch\n",
    "import torchvision\n",
    "import torch.nn as nn\n",
    "import torch.nn.functional as F\n",
    "import torch.optim as optim\n",
    "from torch.utils.data import Dataset, DataLoader\n",
    "from scipy.stats import pearsonr\n",
    "from sklearn.metrics import mean_squared_error\n",
    "from sklearn.preprocessing import StandardScaler, MinMaxScaler\n",
    "import random\n"
   ]
  },
  {
   "cell_type": "code",
   "execution_count": 3,
   "id": "92d0fd2a-44ed-4bf2-b13d-0c269b6340c1",
   "metadata": {},
   "outputs": [],
   "source": [
    "def prepare_data(data, input_columns, output_columns):\n",
    "    \"\"\" Splits data to input/output with corresponding lag \"\"\"\n",
    "    \n",
    "    data['id'] = data['id'].apply(lambda x: int(x[3:])) # change expnumber to int for sorting\n",
    "    data.index.name = 'indx'\n",
    "    data = data.sort_values(['id','indx'])\n",
    "    x_data = data[input_columns].iloc[:-1, :]\n",
    "    y_data = data[output_columns].iloc[1:, :]\n",
    "    \n",
    "    return x_data, y_data"
   ]
  },
  {
   "cell_type": "code",
   "execution_count": 131,
   "id": "e30af98f",
   "metadata": {},
   "outputs": [],
   "source": [
    "dataFrame = pd.read_parquet(\"/glade/work/ochaarawi/ML2019_toluene_ML2019_Exp_0_1999_post_proc.parquet\")"
   ]
  },
  {
   "cell_type": "markdown",
   "id": "b8d1c6a7",
   "metadata": {},
   "source": [
    "Prepare data"
   ]
  },
  {
   "cell_type": "markdown",
   "id": "d5bee0d7-9a5a-4e87-b83f-ef89fc06bbfd",
   "metadata": {},
   "source": [
    "### Training, validation, and testing sets\n",
    "This training dataset/library consists of 2000 GECKO experiments, including results for 5 day runs (1440 timesteps at 300 second intervals). The data has already been split into training/validation/test sets by random expiriments of size 1400/200/200 (and 200 for a hidden test set). Thus, the training set consists of 2,016,000 samples of data and test/validation sets with 288,000 samples."
   ]
  },
  {
   "cell_type": "code",
   "execution_count": 132,
   "id": "1d08d1f8-9a3b-4131-93c4-d3d2dc30376e",
   "metadata": {},
   "outputs": [],
   "source": [
    "training_set = dataFrame.iloc[0:2073600]\n",
    "validation_set = dataFrame.iloc[2073600:2361600]\n",
    "test_set = dataFrame.iloc[2361600:2649600]\n"
   ]
  },
  {
   "cell_type": "code",
   "execution_count": 133,
   "id": "c62764df-39aa-4bac-bcbc-1c820e169f96",
   "metadata": {},
   "outputs": [
    {
     "name": "stderr",
     "output_type": "stream",
     "text": [
      "<ipython-input-3-e96e2b05fa74>:4: SettingWithCopyWarning: \n",
      "A value is trying to be set on a copy of a slice from a DataFrame.\n",
      "Try using .loc[row_indexer,col_indexer] = value instead\n",
      "\n",
      "See the caveats in the documentation: https://pandas.pydata.org/pandas-docs/stable/user_guide/indexing.html#returning-a-view-versus-a-copy\n",
      "  data['id'] = data['id'].apply(lambda x: int(x[3:])) # change expnumber to int for sorting\n"
     ]
    }
   ],
   "source": [
    "input_vars = dataFrame.columns[[1,2,3,4,5,6,36,7,8,9,10,11,12,13,14,15,16,17,18,19,20,21,23,24,25,26,27,28,29,30,31,32,33,34]]\n",
    "output_vars = dataFrame.columns[[1]]\n",
    "train_in, train_out = prepare_data(training_set, input_vars, output_vars)\n",
    "val_in, val_out = prepare_data(validation_set, input_vars, output_vars)\n",
    "test_in, test_out = prepare_data(test_set, input_vars, output_vars)"
   ]
  },
  {
   "cell_type": "code",
   "execution_count": 134,
   "id": "1ccc265a-650f-435c-8063-9a6be7a6d2e9",
   "metadata": {},
   "outputs": [],
   "source": [
    "train_in_scaled = StandardScaler().fit_transform(train_in)\n",
    "val_in_scaled = StandardScaler().fit_transform(val_in)\n",
    "test_in_scaled = StandardScaler().fit_transform(test_in)"
   ]
  },
  {
   "cell_type": "code",
   "execution_count": 135,
   "id": "e964aba5-a5b7-4bf6-8d82-9bbe33b31eef",
   "metadata": {},
   "outputs": [],
   "source": [
    "train_out = train_out.to_numpy()\n",
    "val_out = val_out.to_numpy()\n",
    "test_out = test_out.to_numpy()"
   ]
  },
  {
   "cell_type": "code",
   "execution_count": 136,
   "id": "81fe962c-226a-4fae-a6af-ae2aa212b115",
   "metadata": {},
   "outputs": [],
   "source": [
    "choices = range(0,287999)"
   ]
  },
  {
   "cell_type": "code",
   "execution_count": 143,
   "id": "01a74463-9c65-4870-b553-9a561a085452",
   "metadata": {},
   "outputs": [],
   "source": [
    "arr = np.random.choice(choices, size = 100 )"
   ]
  },
  {
   "cell_type": "code",
   "execution_count": 138,
   "id": "6992ae57-27fa-49d7-ad25-ad0fbe764f0b",
   "metadata": {},
   "outputs": [
    {
     "data": {
      "text/plain": [
       "272976"
      ]
     },
     "execution_count": 138,
     "metadata": {},
     "output_type": "execute_result"
    }
   ],
   "source": [
    "arr.max()"
   ]
  },
  {
   "cell_type": "code",
   "execution_count": 139,
   "id": "9d84007e-7bf0-49f9-a29e-6ea2fe18ccf9",
   "metadata": {},
   "outputs": [
    {
     "data": {
      "text/plain": [
       "287999"
      ]
     },
     "execution_count": 139,
     "metadata": {},
     "output_type": "execute_result"
    }
   ],
   "source": [
    "len(predictions)"
   ]
  },
  {
   "cell_type": "code",
   "execution_count": 140,
   "id": "0b388e55-d6e4-4bfe-8445-1fd0f954640e",
   "metadata": {},
   "outputs": [
    {
     "data": {
      "text/plain": [
       "287999"
      ]
     },
     "execution_count": 140,
     "metadata": {},
     "output_type": "execute_result"
    }
   ],
   "source": [
    "len(val_out)"
   ]
  },
  {
   "cell_type": "code",
   "execution_count": null,
   "id": "67fc1db4-9153-4971-b47b-c05850681fc7",
   "metadata": {},
   "outputs": [],
   "source": []
  },
  {
   "cell_type": "code",
   "execution_count": 144,
   "id": "69036de5-c602-41e1-8085-395f3708f9bb",
   "metadata": {},
   "outputs": [
    {
     "name": "stdout",
     "output_type": "stream",
     "text": [
      "RMSE: 0.00\n"
     ]
    },
    {
     "data": {
      "image/png": "[encoded data removed]",
      "text/plain": [
       "<Figure size 432x288 with 1 Axes>"
      ]
     },
     "metadata": {
      "needs_background": "light"
     },
     "output_type": "display_data"
    }
   ],
   "source": [
    "#Let's use a linear regression model\n",
    "regr = sklearn.linear_model.LinearRegression()\n",
    "regr.fit(train_in_scaled,train_out)\n",
    "\n",
    "predictions = regr.predict(test_in_scaled)\n",
    "# corr, _ = scipy.stats.pearsonr(predictions, val_out)\n",
    "rmse = mean_squared_error(test_out, predictions)\n",
    "print(\"RMSE: {:.2f}\".format(rmse))\n",
    "\n",
    "val = [test_out[x] for x in arr]\n",
    "pred = [predictions[x] for x in arr]\n",
    "plot_GECKO_time_series(val, pred, \n",
    "    'Predicted and True Precursor amount on Training Set at 1 Time-Step Lead Time. \\n Corr: {:.2f}'.format(3))"
   ]
  },
  {
   "cell_type": "code",
   "execution_count": 129,
   "id": "f6ee9425-37c7-498d-bf2b-cd26a7f0899c",
   "metadata": {},
   "outputs": [
    {
     "ename": "AttributeError",
     "evalue": "'numpy.ndarray' object has no attribute 'iloc'",
     "output_type": "error",
     "traceback": [
      "\u001b[0;31m---------------------------------------------------------------------------\u001b[0m",
      "\u001b[0;31mAttributeError\u001b[0m                            Traceback (most recent call last)",
      "\u001b[0;32m<ipython-input-129-539fe52d8ee5>\u001b[0m in \u001b[0;36m<module>\u001b[0;34m\u001b[0m\n\u001b[0;32m----> 1\u001b[0;31m \u001b[0mtrain_out\u001b[0m\u001b[0;34m.\u001b[0m\u001b[0miloc\u001b[0m\u001b[0;34m[\u001b[0m\u001b[0;36m1438\u001b[0m\u001b[0;34m:\u001b[0m\u001b[0;36m1442\u001b[0m\u001b[0;34m]\u001b[0m\u001b[0;34m\u001b[0m\u001b[0;34m\u001b[0m\u001b[0m\n\u001b[0m",
      "\u001b[0;31mAttributeError\u001b[0m: 'numpy.ndarray' object has no attribute 'iloc'"
     ]
    }
   ],
   "source": [
    "train_out.iloc[1438:1442]"
   ]
  },
  {
   "cell_type": "code",
   "execution_count": 94,
   "id": "72f0a580",
   "metadata": {
    "scrolled": true
   },
   "outputs": [],
   "source": [
    "X = dataFrame.drop(columns = [\"Time [s]\"])"
   ]
  },
  {
   "cell_type": "markdown",
   "id": "804295e2-1239-4f1d-8bea-cee83399b4c8",
   "metadata": {},
   "source": [
    "**/glade/work/schreck/repos/GECKO_OPT/gecko-ml/applications/model_comparison.ipynb**"
   ]
  },
  {
   "cell_type": "markdown",
   "id": "0ac9e9bc",
   "metadata": {},
   "source": [
    "### Input:\n",
    "\n",
    "Precursor, Temperature, OH, O3, NO, SZA, pre-existing aerosols, Gas binned, Aerosol binned\n",
    "\n",
    "### Output:\n",
    "\n",
    "precursor at T+1"
   ]
  },
  {
   "cell_type": "markdown",
   "id": "7bda1ce4",
   "metadata": {},
   "source": [
    "#### Mapping predictands to predictor\n",
    "\n",
    "Because we want to predict amount of precursor at time equals t + 1"
   ]
  },
  {
   "cell_type": "code",
   "execution_count": 95,
   "id": "f8bb9a09",
   "metadata": {},
   "outputs": [],
   "source": [
    "drop_indices = [x for x in range(1439,2880000,1440)]"
   ]
  },
  {
   "cell_type": "code",
   "execution_count": 96,
   "id": "73491d38",
   "metadata": {},
   "outputs": [],
   "source": [
    "X = X.drop(index=drop_indices)\n",
    "X = X.reset_index(drop=True)"
   ]
  },
  {
   "cell_type": "code",
   "execution_count": 97,
   "id": "0c638e31",
   "metadata": {},
   "outputs": [],
   "source": [
    "y = X.loc[1:,'Precursor [ug/m3]']\n",
    "y = y.reset_index(drop=True)\n",
    "X['Precursor [ug/m3] at t+1'] = y"
   ]
  },
  {
   "cell_type": "code",
   "execution_count": 98,
   "id": "927fb2fa",
   "metadata": {},
   "outputs": [
    {
     "data": {
      "text/html": [
       "<div>\n",
       "<style scoped>\n",
       "    .dataframe tbody tr th:only-of-type {\n",
       "        vertical-align: middle;\n",
       "    }\n",
       "\n",
       "    .dataframe tbody tr th {\n",
       "        vertical-align: top;\n",
       "    }\n",
       "\n",
       "    .dataframe thead th {\n",
       "        text-align: right;\n",
       "    }\n",
       "</style>\n",
       "<table border=\"1\" class=\"dataframe\">\n",
       "  <thead>\n",
       "    <tr style=\"text-align: right;\">\n",
       "      <th></th>\n",
       "      <th>Precursor [ug/m3]</th>\n",
       "      <th>Temperature [K]</th>\n",
       "      <th>OH [molec/cm3]</th>\n",
       "      <th>O3 [molec/cm3]</th>\n",
       "      <th>NOx [molec/cm3]</th>\n",
       "      <th>SZA [degree]</th>\n",
       "      <th>Gas [ug/m3] Bin01: lg(C*) = -6.5</th>\n",
       "      <th>Gas [ug/m3] Bin02: lg(C*) = -5.5</th>\n",
       "      <th>Gas [ug/m3] Bin03: lg(C*) = -4.5</th>\n",
       "      <th>Gas [ug/m3] Bin04: lg(C*) = -3.5</th>\n",
       "      <th>...</th>\n",
       "      <th>Aerosol [ug_m3] Bin08: lg(C*) =  0.5</th>\n",
       "      <th>Aerosol [ug_m3] Bin09: lg(C*) =  1.5</th>\n",
       "      <th>Aerosol [ug_m3] Bin10: lg(C*) =  2.5</th>\n",
       "      <th>Aerosol [ug_m3] Bin11: lg(C*) =  3.5</th>\n",
       "      <th>Aerosol [ug_m3] Bin12: lg(C*) =  4.5</th>\n",
       "      <th>Aerosol [ug_m3] Bin13: lg(C*) =  5.5</th>\n",
       "      <th>Aerosol [ug_m3] Bin14: lg(C*) =  6.5</th>\n",
       "      <th>id</th>\n",
       "      <th>pre-existing aerosols (ug/m3)</th>\n",
       "      <th>Precursor [ug/m3] at t+1</th>\n",
       "    </tr>\n",
       "  </thead>\n",
       "  <tbody>\n",
       "    <tr>\n",
       "      <th>1430</th>\n",
       "      <td>0.000002</td>\n",
       "      <td>305.932007</td>\n",
       "      <td>4259464.0</td>\n",
       "      <td>2.131903e+12</td>\n",
       "      <td>3.447057e+11</td>\n",
       "      <td>154.094120</td>\n",
       "      <td>1.174802e-14</td>\n",
       "      <td>4.308693e-12</td>\n",
       "      <td>1.015952e-10</td>\n",
       "      <td>1.519263e-07</td>\n",
       "      <td>...</td>\n",
       "      <td>1.216334e-09</td>\n",
       "      <td>4.282422e-11</td>\n",
       "      <td>1.411516e-07</td>\n",
       "      <td>1.416167e-10</td>\n",
       "      <td>4.232096e-10</td>\n",
       "      <td>1.998149e-14</td>\n",
       "      <td>1.184290e-14</td>\n",
       "      <td>Exp0</td>\n",
       "      <td>0.019914</td>\n",
       "      <td>0.000002</td>\n",
       "    </tr>\n",
       "    <tr>\n",
       "      <th>1431</th>\n",
       "      <td>0.000002</td>\n",
       "      <td>305.846558</td>\n",
       "      <td>4259464.0</td>\n",
       "      <td>2.131903e+12</td>\n",
       "      <td>3.442912e+11</td>\n",
       "      <td>154.623295</td>\n",
       "      <td>1.169935e-14</td>\n",
       "      <td>4.293417e-12</td>\n",
       "      <td>1.013056e-10</td>\n",
       "      <td>1.517573e-07</td>\n",
       "      <td>...</td>\n",
       "      <td>1.227298e-09</td>\n",
       "      <td>4.318119e-11</td>\n",
       "      <td>1.425742e-07</td>\n",
       "      <td>1.429664e-10</td>\n",
       "      <td>4.257585e-10</td>\n",
       "      <td>2.010999e-14</td>\n",
       "      <td>1.188182e-14</td>\n",
       "      <td>Exp0</td>\n",
       "      <td>0.019914</td>\n",
       "      <td>0.000002</td>\n",
       "    </tr>\n",
       "    <tr>\n",
       "      <th>1432</th>\n",
       "      <td>0.000002</td>\n",
       "      <td>305.760712</td>\n",
       "      <td>4259464.0</td>\n",
       "      <td>2.131903e+12</td>\n",
       "      <td>3.438801e+11</td>\n",
       "      <td>155.104292</td>\n",
       "      <td>1.165089e-14</td>\n",
       "      <td>4.278168e-12</td>\n",
       "      <td>1.010143e-10</td>\n",
       "      <td>1.515819e-07</td>\n",
       "      <td>...</td>\n",
       "      <td>1.238105e-09</td>\n",
       "      <td>4.355103e-11</td>\n",
       "      <td>1.440185e-07</td>\n",
       "      <td>1.443357e-10</td>\n",
       "      <td>4.283401e-10</td>\n",
       "      <td>2.023992e-14</td>\n",
       "      <td>1.192181e-14</td>\n",
       "      <td>Exp0</td>\n",
       "      <td>0.019914</td>\n",
       "      <td>0.000002</td>\n",
       "    </tr>\n",
       "    <tr>\n",
       "      <th>1433</th>\n",
       "      <td>0.000002</td>\n",
       "      <td>305.674561</td>\n",
       "      <td>4259464.0</td>\n",
       "      <td>2.131903e+12</td>\n",
       "      <td>3.434583e+11</td>\n",
       "      <td>155.534364</td>\n",
       "      <td>1.160263e-14</td>\n",
       "      <td>4.262957e-12</td>\n",
       "      <td>1.007221e-10</td>\n",
       "      <td>1.514002e-07</td>\n",
       "      <td>...</td>\n",
       "      <td>1.249689e-09</td>\n",
       "      <td>4.391392e-11</td>\n",
       "      <td>1.454842e-07</td>\n",
       "      <td>1.457242e-10</td>\n",
       "      <td>4.309529e-10</td>\n",
       "      <td>2.036056e-14</td>\n",
       "      <td>1.196156e-14</td>\n",
       "      <td>Exp0</td>\n",
       "      <td>0.019914</td>\n",
       "      <td>0.000002</td>\n",
       "    </tr>\n",
       "    <tr>\n",
       "      <th>1434</th>\n",
       "      <td>0.000002</td>\n",
       "      <td>305.588135</td>\n",
       "      <td>4259464.0</td>\n",
       "      <td>2.131903e+12</td>\n",
       "      <td>3.430399e+11</td>\n",
       "      <td>155.910716</td>\n",
       "      <td>1.155457e-14</td>\n",
       "      <td>4.247778e-12</td>\n",
       "      <td>1.004289e-10</td>\n",
       "      <td>1.512123e-07</td>\n",
       "      <td>...</td>\n",
       "      <td>1.261375e-09</td>\n",
       "      <td>4.426646e-11</td>\n",
       "      <td>1.469709e-07</td>\n",
       "      <td>1.471316e-10</td>\n",
       "      <td>4.335965e-10</td>\n",
       "      <td>2.049260e-14</td>\n",
       "      <td>1.200590e-14</td>\n",
       "      <td>Exp0</td>\n",
       "      <td>0.019914</td>\n",
       "      <td>0.000002</td>\n",
       "    </tr>\n",
       "    <tr>\n",
       "      <th>1435</th>\n",
       "      <td>0.000002</td>\n",
       "      <td>305.501434</td>\n",
       "      <td>4259464.0</td>\n",
       "      <td>2.131903e+12</td>\n",
       "      <td>3.426257e+11</td>\n",
       "      <td>156.230759</td>\n",
       "      <td>1.150671e-14</td>\n",
       "      <td>4.232634e-12</td>\n",
       "      <td>1.001353e-10</td>\n",
       "      <td>1.510183e-07</td>\n",
       "      <td>...</td>\n",
       "      <td>1.272366e-09</td>\n",
       "      <td>4.468454e-11</td>\n",
       "      <td>1.484782e-07</td>\n",
       "      <td>1.485576e-10</td>\n",
       "      <td>4.362685e-10</td>\n",
       "      <td>2.060490e-14</td>\n",
       "      <td>1.204657e-14</td>\n",
       "      <td>Exp0</td>\n",
       "      <td>0.019914</td>\n",
       "      <td>0.000002</td>\n",
       "    </tr>\n",
       "    <tr>\n",
       "      <th>1436</th>\n",
       "      <td>0.000002</td>\n",
       "      <td>305.414520</td>\n",
       "      <td>4259464.0</td>\n",
       "      <td>2.131903e+12</td>\n",
       "      <td>3.422065e+11</td>\n",
       "      <td>156.492253</td>\n",
       "      <td>1.145905e-14</td>\n",
       "      <td>4.217511e-12</td>\n",
       "      <td>9.983999e-11</td>\n",
       "      <td>1.508184e-07</td>\n",
       "      <td>...</td>\n",
       "      <td>1.284114e-09</td>\n",
       "      <td>4.508111e-11</td>\n",
       "      <td>1.500059e-07</td>\n",
       "      <td>1.500017e-10</td>\n",
       "      <td>4.389684e-10</td>\n",
       "      <td>2.074486e-14</td>\n",
       "      <td>1.208785e-14</td>\n",
       "      <td>Exp0</td>\n",
       "      <td>0.019914</td>\n",
       "      <td>0.000002</td>\n",
       "    </tr>\n",
       "    <tr>\n",
       "      <th>1437</th>\n",
       "      <td>0.000002</td>\n",
       "      <td>305.327454</td>\n",
       "      <td>4259464.0</td>\n",
       "      <td>2.131903e+12</td>\n",
       "      <td>3.417814e+11</td>\n",
       "      <td>156.693183</td>\n",
       "      <td>1.141160e-14</td>\n",
       "      <td>4.202438e-12</td>\n",
       "      <td>9.954452e-11</td>\n",
       "      <td>1.506128e-07</td>\n",
       "      <td>...</td>\n",
       "      <td>1.296316e-09</td>\n",
       "      <td>4.547631e-11</td>\n",
       "      <td>1.515534e-07</td>\n",
       "      <td>1.514636e-10</td>\n",
       "      <td>4.416948e-10</td>\n",
       "      <td>2.087029e-14</td>\n",
       "      <td>1.212963e-14</td>\n",
       "      <td>Exp0</td>\n",
       "      <td>0.019914</td>\n",
       "      <td>0.000002</td>\n",
       "    </tr>\n",
       "    <tr>\n",
       "      <th>1438</th>\n",
       "      <td>0.000002</td>\n",
       "      <td>305.240265</td>\n",
       "      <td>4259464.0</td>\n",
       "      <td>2.131903e+12</td>\n",
       "      <td>3.413655e+11</td>\n",
       "      <td>156.831959</td>\n",
       "      <td>1.136435e-14</td>\n",
       "      <td>4.187412e-12</td>\n",
       "      <td>9.924812e-11</td>\n",
       "      <td>1.504017e-07</td>\n",
       "      <td>...</td>\n",
       "      <td>1.308099e-09</td>\n",
       "      <td>4.588239e-11</td>\n",
       "      <td>1.531203e-07</td>\n",
       "      <td>1.529427e-10</td>\n",
       "      <td>4.444462e-10</td>\n",
       "      <td>2.101367e-14</td>\n",
       "      <td>1.217166e-14</td>\n",
       "      <td>Exp0</td>\n",
       "      <td>0.019914</td>\n",
       "      <td>0.037689</td>\n",
       "    </tr>\n",
       "    <tr>\n",
       "      <th>1439</th>\n",
       "      <td>0.037689</td>\n",
       "      <td>299.811035</td>\n",
       "      <td>8647693.0</td>\n",
       "      <td>1.670159e+12</td>\n",
       "      <td>7.066853e+10</td>\n",
       "      <td>156.839686</td>\n",
       "      <td>0.000000e+00</td>\n",
       "      <td>0.000000e+00</td>\n",
       "      <td>0.000000e+00</td>\n",
       "      <td>0.000000e+00</td>\n",
       "      <td>...</td>\n",
       "      <td>0.000000e+00</td>\n",
       "      <td>0.000000e+00</td>\n",
       "      <td>0.000000e+00</td>\n",
       "      <td>0.000000e+00</td>\n",
       "      <td>0.000000e+00</td>\n",
       "      <td>0.000000e+00</td>\n",
       "      <td>0.000000e+00</td>\n",
       "      <td>Exp1</td>\n",
       "      <td>27.682699</td>\n",
       "      <td>0.037146</td>\n",
       "    </tr>\n",
       "    <tr>\n",
       "      <th>1440</th>\n",
       "      <td>0.037146</td>\n",
       "      <td>299.811035</td>\n",
       "      <td>8647693.0</td>\n",
       "      <td>1.670159e+12</td>\n",
       "      <td>2.973451e+11</td>\n",
       "      <td>156.845342</td>\n",
       "      <td>6.744686e-18</td>\n",
       "      <td>1.208544e-13</td>\n",
       "      <td>9.808674e-14</td>\n",
       "      <td>1.733535e-12</td>\n",
       "      <td>...</td>\n",
       "      <td>3.751634e-10</td>\n",
       "      <td>9.695816e-10</td>\n",
       "      <td>1.207845e-07</td>\n",
       "      <td>1.496391e-09</td>\n",
       "      <td>5.563212e-08</td>\n",
       "      <td>6.845366e-10</td>\n",
       "      <td>1.015223e-08</td>\n",
       "      <td>Exp1</td>\n",
       "      <td>27.682699</td>\n",
       "      <td>0.036611</td>\n",
       "    </tr>\n",
       "  </tbody>\n",
       "</table>\n",
       "<p>11 rows × 37 columns</p>\n",
       "</div>"
      ],
      "text/plain": [
       "      Precursor [ug/m3]  Temperature [K]  OH [molec/cm3]  O3 [molec/cm3]  \\\n",
       "1430           0.000002       305.932007       4259464.0    2.131903e+12   \n",
       "1431           0.000002       305.846558       4259464.0    2.131903e+12   \n",
       "1432           0.000002       305.760712       4259464.0    2.131903e+12   \n",
       "1433           0.000002       305.674561       4259464.0    2.131903e+12   \n",
       "1434           0.000002       305.588135       4259464.0    2.131903e+12   \n",
       "1435           0.000002       305.501434       4259464.0    2.131903e+12   \n",
       "1436           0.000002       305.414520       4259464.0    2.131903e+12   \n",
       "1437           0.000002       305.327454       4259464.0    2.131903e+12   \n",
       "1438           0.000002       305.240265       4259464.0    2.131903e+12   \n",
       "1439           0.037689       299.811035       8647693.0    1.670159e+12   \n",
       "1440           0.037146       299.811035       8647693.0    1.670159e+12   \n",
       "\n",
       "      NOx [molec/cm3]  SZA [degree]  Gas [ug/m3] Bin01: lg(C*) = -6.5  \\\n",
       "1430     3.447057e+11    154.094120                      1.174802e-14   \n",
       "1431     3.442912e+11    154.623295                      1.169935e-14   \n",
       "1432     3.438801e+11    155.104292                      1.165089e-14   \n",
       "1433     3.434583e+11    155.534364                      1.160263e-14   \n",
       "1434     3.430399e+11    155.910716                      1.155457e-14   \n",
       "1435     3.426257e+11    156.230759                      1.150671e-14   \n",
       "1436     3.422065e+11    156.492253                      1.145905e-14   \n",
       "1437     3.417814e+11    156.693183                      1.141160e-14   \n",
       "1438     3.413655e+11    156.831959                      1.136435e-14   \n",
       "1439     7.066853e+10    156.839686                      0.000000e+00   \n",
       "1440     2.973451e+11    156.845342                      6.744686e-18   \n",
       "\n",
       "      Gas [ug/m3] Bin02: lg(C*) = -5.5  Gas [ug/m3] Bin03: lg(C*) = -4.5  \\\n",
       "1430                      4.308693e-12                      1.015952e-10   \n",
       "1431                      4.293417e-12                      1.013056e-10   \n",
       "1432                      4.278168e-12                      1.010143e-10   \n",
       "1433                      4.262957e-12                      1.007221e-10   \n",
       "1434                      4.247778e-12                      1.004289e-10   \n",
       "1435                      4.232634e-12                      1.001353e-10   \n",
       "1436                      4.217511e-12                      9.983999e-11   \n",
       "1437                      4.202438e-12                      9.954452e-11   \n",
       "1438                      4.187412e-12                      9.924812e-11   \n",
       "1439                      0.000000e+00                      0.000000e+00   \n",
       "1440                      1.208544e-13                      9.808674e-14   \n",
       "\n",
       "      Gas [ug/m3] Bin04: lg(C*) = -3.5  ...  \\\n",
       "1430                      1.519263e-07  ...   \n",
       "1431                      1.517573e-07  ...   \n",
       "1432                      1.515819e-07  ...   \n",
       "1433                      1.514002e-07  ...   \n",
       "1434                      1.512123e-07  ...   \n",
       "1435                      1.510183e-07  ...   \n",
       "1436                      1.508184e-07  ...   \n",
       "1437                      1.506128e-07  ...   \n",
       "1438                      1.504017e-07  ...   \n",
       "1439                      0.000000e+00  ...   \n",
       "1440                      1.733535e-12  ...   \n",
       "\n",
       "      Aerosol [ug_m3] Bin08: lg(C*) =  0.5  \\\n",
       "1430                          1.216334e-09   \n",
       "1431                          1.227298e-09   \n",
       "1432                          1.238105e-09   \n",
       "1433                          1.249689e-09   \n",
       "1434                          1.261375e-09   \n",
       "1435                          1.272366e-09   \n",
       "1436                          1.284114e-09   \n",
       "1437                          1.296316e-09   \n",
       "1438                          1.308099e-09   \n",
       "1439                          0.000000e+00   \n",
       "1440                          3.751634e-10   \n",
       "\n",
       "      Aerosol [ug_m3] Bin09: lg(C*) =  1.5  \\\n",
       "1430                          4.282422e-11   \n",
       "1431                          4.318119e-11   \n",
       "1432                          4.355103e-11   \n",
       "1433                          4.391392e-11   \n",
       "1434                          4.426646e-11   \n",
       "1435                          4.468454e-11   \n",
       "1436                          4.508111e-11   \n",
       "1437                          4.547631e-11   \n",
       "1438                          4.588239e-11   \n",
       "1439                          0.000000e+00   \n",
       "1440                          9.695816e-10   \n",
       "\n",
       "      Aerosol [ug_m3] Bin10: lg(C*) =  2.5  \\\n",
       "1430                          1.411516e-07   \n",
       "1431                          1.425742e-07   \n",
       "1432                          1.440185e-07   \n",
       "1433                          1.454842e-07   \n",
       "1434                          1.469709e-07   \n",
       "1435                          1.484782e-07   \n",
       "1436                          1.500059e-07   \n",
       "1437                          1.515534e-07   \n",
       "1438                          1.531203e-07   \n",
       "1439                          0.000000e+00   \n",
       "1440                          1.207845e-07   \n",
       "\n",
       "      Aerosol [ug_m3] Bin11: lg(C*) =  3.5  \\\n",
       "1430                          1.416167e-10   \n",
       "1431                          1.429664e-10   \n",
       "1432                          1.443357e-10   \n",
       "1433                          1.457242e-10   \n",
       "1434                          1.471316e-10   \n",
       "1435                          1.485576e-10   \n",
       "1436                          1.500017e-10   \n",
       "1437                          1.514636e-10   \n",
       "1438                          1.529427e-10   \n",
       "1439                          0.000000e+00   \n",
       "1440                          1.496391e-09   \n",
       "\n",
       "      Aerosol [ug_m3] Bin12: lg(C*) =  4.5  \\\n",
       "1430                          4.232096e-10   \n",
       "1431                          4.257585e-10   \n",
       "1432                          4.283401e-10   \n",
       "1433                          4.309529e-10   \n",
       "1434                          4.335965e-10   \n",
       "1435                          4.362685e-10   \n",
       "1436                          4.389684e-10   \n",
       "1437                          4.416948e-10   \n",
       "1438                          4.444462e-10   \n",
       "1439                          0.000000e+00   \n",
       "1440                          5.563212e-08   \n",
       "\n",
       "      Aerosol [ug_m3] Bin13: lg(C*) =  5.5  \\\n",
       "1430                          1.998149e-14   \n",
       "1431                          2.010999e-14   \n",
       "1432                          2.023992e-14   \n",
       "1433                          2.036056e-14   \n",
       "1434                          2.049260e-14   \n",
       "1435                          2.060490e-14   \n",
       "1436                          2.074486e-14   \n",
       "1437                          2.087029e-14   \n",
       "1438                          2.101367e-14   \n",
       "1439                          0.000000e+00   \n",
       "1440                          6.845366e-10   \n",
       "\n",
       "      Aerosol [ug_m3] Bin14: lg(C*) =  6.5    id  \\\n",
       "1430                          1.184290e-14  Exp0   \n",
       "1431                          1.188182e-14  Exp0   \n",
       "1432                          1.192181e-14  Exp0   \n",
       "1433                          1.196156e-14  Exp0   \n",
       "1434                          1.200590e-14  Exp0   \n",
       "1435                          1.204657e-14  Exp0   \n",
       "1436                          1.208785e-14  Exp0   \n",
       "1437                          1.212963e-14  Exp0   \n",
       "1438                          1.217166e-14  Exp0   \n",
       "1439                          0.000000e+00  Exp1   \n",
       "1440                          1.015223e-08  Exp1   \n",
       "\n",
       "      pre-existing aerosols (ug/m3)  Precursor [ug/m3] at t+1  \n",
       "1430                       0.019914                  0.000002  \n",
       "1431                       0.019914                  0.000002  \n",
       "1432                       0.019914                  0.000002  \n",
       "1433                       0.019914                  0.000002  \n",
       "1434                       0.019914                  0.000002  \n",
       "1435                       0.019914                  0.000002  \n",
       "1436                       0.019914                  0.000002  \n",
       "1437                       0.019914                  0.000002  \n",
       "1438                       0.019914                  0.037689  \n",
       "1439                      27.682699                  0.037146  \n",
       "1440                      27.682699                  0.036611  \n",
       "\n",
       "[11 rows x 37 columns]"
      ]
     },
     "execution_count": 98,
     "metadata": {},
     "output_type": "execute_result"
    }
   ],
   "source": [
    "X.iloc[1430:1441]"
   ]
  },
  {
   "cell_type": "code",
   "execution_count": 45,
   "id": "3086f358",
   "metadata": {},
   "outputs": [],
   "source": [
    "X = X.drop(index=0)"
   ]
  },
  {
   "cell_type": "code",
   "execution_count": 48,
   "id": "31e3e9b5",
   "metadata": {},
   "outputs": [],
   "source": [
    "X = X.reset_index()"
   ]
  },
  {
   "cell_type": "code",
   "execution_count": 49,
   "id": "a17834dc",
   "metadata": {},
   "outputs": [
    {
     "data": {
      "text/html": [
       "<div>\n",
       "<style scoped>\n",
       "    .dataframe tbody tr th:only-of-type {\n",
       "        vertical-align: middle;\n",
       "    }\n",
       "\n",
       "    .dataframe tbody tr th {\n",
       "        vertical-align: top;\n",
       "    }\n",
       "\n",
       "    .dataframe thead th {\n",
       "        text-align: right;\n",
       "    }\n",
       "</style>\n",
       "<table border=\"1\" class=\"dataframe\">\n",
       "  <thead>\n",
       "    <tr style=\"text-align: right;\">\n",
       "      <th></th>\n",
       "      <th>index</th>\n",
       "      <th>monday</th>\n",
       "      <th>tuesday</th>\n",
       "      <th>wednesday</th>\n",
       "    </tr>\n",
       "  </thead>\n",
       "  <tbody>\n",
       "    <tr>\n",
       "      <th>0</th>\n",
       "      <td>1</td>\n",
       "      <td>4</td>\n",
       "      <td>5</td>\n",
       "      <td>6</td>\n",
       "    </tr>\n",
       "    <tr>\n",
       "      <th>1</th>\n",
       "      <td>2</td>\n",
       "      <td>7</td>\n",
       "      <td>8</td>\n",
       "      <td>9</td>\n",
       "    </tr>\n",
       "  </tbody>\n",
       "</table>\n",
       "</div>"
      ],
      "text/plain": [
       "   index  monday  tuesday  wednesday\n",
       "0      1       4        5          6\n",
       "1      2       7        8          9"
      ]
     },
     "execution_count": 49,
     "metadata": {},
     "output_type": "execute_result"
    }
   ],
   "source": [
    "X"
   ]
  },
  {
   "cell_type": "code",
   "execution_count": 24,
   "id": "663f39bf",
   "metadata": {
    "scrolled": true
   },
   "outputs": [
    {
     "data": {
      "text/plain": [
       "False"
      ]
     },
     "execution_count": 24,
     "metadata": {},
     "output_type": "execute_result"
    }
   ],
   "source": [
    "(0 != 0) and (row % 1439 == 0)\n"
   ]
  },
  {
   "cell_type": "code",
   "execution_count": 79,
   "id": "1076af8b-e774-4fe2-8eb1-b1193bff8f00",
   "metadata": {},
   "outputs": [],
   "source": [
    "def plot_GECKO_time_series(y, y_predictions, title):\n",
    "    \"\"\"\n",
    "    notes\n",
    "    -----\n",
    "        Taken from seasonal_forecasting.ipynb notebook. Credit: Charlie Becker\n",
    "\n",
    "    inputs\n",
    "    ------\n",
    "        y             pd.array  : time series of the true precursor amount\n",
    "        predictions   np.array  : time series of the predicted values for y (same\n",
    "                                  length and time as y)\n",
    "        title                   : the title of the plot\n",
    "\n",
    "    outputs\n",
    "    -------\n",
    "        None.  Displays the plot\n",
    "    \"\"\"\n",
    "#     predictions = pd.Series(y_predictions, index=y.index)\n",
    "#     predictions = predictions.sort_index()\n",
    "#     y = y.sort_index()\n",
    "\n",
    "    plt.plot(y, label='Ground Truth')\n",
    "    plt.plot(y_predictions, '--', label='ML Predictions')\n",
    "    plt.legend(loc='best')\n",
    "    plt.title(title)\n",
    "    plt.ylabel('Precursor [ug/m3] ')\n",
    "    plt.xlabel('Time-step')\n",
    "    plt.show()\n",
    "    plt.close()"
   ]
  },
  {
   "cell_type": "markdown",
   "id": "08a09cb8-eecd-482d-8e15-996cbff4b317",
   "metadata": {},
   "source": [
    "### Step 1: Build X and y"
   ]
  },
  {
   "cell_type": "code",
   "execution_count": 3,
   "id": "179d54e0-9d0f-4581-9fe5-cda7acecf4d3",
   "metadata": {},
   "outputs": [],
   "source": [
    "def assemble_predictors_predictands(start_index, end_index, lead_time, dataFrame):\n",
    "    X = dataFrame.iloc[start_index:end_index,1:].values\n",
    "    y = dataFrame.loc[start_index + lead_time: end_index + lead_time - 1,' Precursor [ug/m3]'].values\n",
    "    #TODO\n",
    "    # Add logic to make sure dataframe is not being overindexed when building vector of predictands\n",
    "    \n",
    "    \"\"\"\n",
    "    notes\n",
    "    -----\n",
    "        Taken from seasonal_forecasting.ipynb notebook. Credit: Charlie Becker\n",
    "        We will ignore the time domain in our feature matrix.\n",
    "        \n",
    "    inputs\n",
    "    ------\n",
    "\n",
    "        start_index       int : the start index from which to extraxt features\n",
    "        end_index         int : the end index\n",
    "        lead_time         int : (n) the number of timesteps between each row of features\n",
    "                              and the target amount of precursor\n",
    "\n",
    "    outputs\n",
    "    -------\n",
    "        Returns a tuple of the predictors (np array of predictive features) \n",
    "        and the predictands (np array of precursor at t+n).\n",
    "        \"\"\"\n",
    "\n",
    "    return X,y"
   ]
  },
  {
   "cell_type": "code",
   "execution_count": 4,
   "id": "5a6aa14b-89db-4960-8c17-ead4989a0f03",
   "metadata": {},
   "outputs": [
    {
     "ename": "NameError",
     "evalue": "name 'dataFrame' is not defined",
     "output_type": "error",
     "traceback": [
      "\u001b[0;31m---------------------------------------------------------------------------\u001b[0m",
      "\u001b[0;31mNameError\u001b[0m                                 Traceback (most recent call last)",
      "\u001b[0;32m<ipython-input-4-cbe231380f51>\u001b[0m in \u001b[0;36m<module>\u001b[0;34m\u001b[0m\n\u001b[0;32m----> 1\u001b[0;31m \u001b[0mX\u001b[0m\u001b[0;34m,\u001b[0m\u001b[0my\u001b[0m \u001b[0;34m=\u001b[0m \u001b[0massemble_predictors_predictands\u001b[0m\u001b[0;34m(\u001b[0m\u001b[0mstart_index\u001b[0m \u001b[0;34m=\u001b[0m \u001b[0;36m0\u001b[0m\u001b[0;34m,\u001b[0m \u001b[0mend_index\u001b[0m \u001b[0;34m=\u001b[0m \u001b[0;36m1390\u001b[0m\u001b[0;34m,\u001b[0m \u001b[0mlead_time\u001b[0m \u001b[0;34m=\u001b[0m \u001b[0;36m1\u001b[0m\u001b[0;34m,\u001b[0m \u001b[0mdataFrame\u001b[0m \u001b[0;34m=\u001b[0m \u001b[0mdataFrame\u001b[0m\u001b[0;34m)\u001b[0m\u001b[0;34m\u001b[0m\u001b[0;34m\u001b[0m\u001b[0m\n\u001b[0m",
      "\u001b[0;31mNameError\u001b[0m: name 'dataFrame' is not defined"
     ]
    }
   ],
   "source": [
    "X,y = assemble_predictors_predictands(start_index = 0, end_index = 1390, lead_time = 1, dataFrame = dataFrame)"
   ]
  },
  {
   "cell_type": "code",
   "execution_count": 5,
   "id": "90cf7646-0e98-456c-96ab-e79c138c5f8b",
   "metadata": {},
   "outputs": [
    {
     "ename": "NameError",
     "evalue": "name 'y' is not defined",
     "output_type": "error",
     "traceback": [
      "\u001b[0;31m---------------------------------------------------------------------------\u001b[0m",
      "\u001b[0;31mNameError\u001b[0m                                 Traceback (most recent call last)",
      "\u001b[0;32m<ipython-input-5-aeb130fd6136>\u001b[0m in \u001b[0;36m<module>\u001b[0;34m\u001b[0m\n\u001b[0;32m----> 1\u001b[0;31m \u001b[0mplot_GECKO_time_series\u001b[0m\u001b[0;34m(\u001b[0m\u001b[0my\u001b[0m\u001b[0;34m,\u001b[0m\u001b[0my\u001b[0m\u001b[0;34m,\u001b[0m\u001b[0;34m\"Amount of Precursor over time?\"\u001b[0m\u001b[0;34m)\u001b[0m\u001b[0;34m\u001b[0m\u001b[0;34m\u001b[0m\u001b[0m\n\u001b[0m",
      "\u001b[0;31mNameError\u001b[0m: name 'y' is not defined"
     ]
    }
   ],
   "source": [
    "plot_GECKO_time_series(y,y,\"Amount of Precursor over time?\")"
   ]
  },
  {
   "cell_type": "code",
   "execution_count": 6,
   "id": "792966d9-43f9-4426-8fc2-68ed7f1a8855",
   "metadata": {},
   "outputs": [
    {
     "ename": "SyntaxError",
     "evalue": "invalid syntax (<ipython-input-6-e62eda951b58>, line 3)",
     "output_type": "error",
     "traceback": [
      "\u001b[0;36m  File \u001b[0;32m\"<ipython-input-6-e62eda951b58>\"\u001b[0;36m, line \u001b[0;32m3\u001b[0m\n\u001b[0;31m    We are going to allocated about 55% of the lower half of data for training, 65-75% will be for valuation, and 85-95% for test set. This will be approximate separations going by index. There are other methods for creating sets but this will be covered in a later notebook.\u001b[0m\n\u001b[0m       ^\u001b[0m\n\u001b[0;31mSyntaxError\u001b[0m\u001b[0;31m:\u001b[0m invalid syntax\n"
     ]
    }
   ],
   "source": [
    "### Step 2: Separate data into a training set, valuation set, and test set. (There is a bit of technique in this, but we will make this simple for now.)\n",
    "\n",
    "We are going to allocated about 55% of the lower half of data for training, 65-75% will be for valuation, and 85-95% for test set. This will be approximate separations going by index. There are other methods for creating sets but this will be covered in a later notebook."
   ]
  },
  {
   "cell_type": "code",
   "execution_count": 7,
   "id": "66541d77-64d5-4936-93de-bf534b271c8a",
   "metadata": {},
   "outputs": [
    {
     "ename": "NameError",
     "evalue": "name 'dataFrame' is not defined",
     "output_type": "error",
     "traceback": [
      "\u001b[0;31m---------------------------------------------------------------------------\u001b[0m",
      "\u001b[0;31mNameError\u001b[0m                                 Traceback (most recent call last)",
      "\u001b[0;32m<ipython-input-7-ea8029956e81>\u001b[0m in \u001b[0;36m<module>\u001b[0;34m\u001b[0m\n\u001b[0;32m----> 1\u001b[0;31m \u001b[0mX_train\u001b[0m\u001b[0;34m,\u001b[0m \u001b[0my_train\u001b[0m \u001b[0;34m=\u001b[0m \u001b[0massemble_predictors_predictands\u001b[0m\u001b[0;34m(\u001b[0m\u001b[0mstart_index\u001b[0m\u001b[0;34m=\u001b[0m\u001b[0;36m0\u001b[0m\u001b[0;34m,\u001b[0m \u001b[0mend_index\u001b[0m\u001b[0;34m=\u001b[0m\u001b[0;36m1300\u001b[0m\u001b[0;34m,\u001b[0m \u001b[0mlead_time\u001b[0m\u001b[0;34m=\u001b[0m\u001b[0;36m1\u001b[0m\u001b[0;34m,\u001b[0m \u001b[0mdataFrame\u001b[0m\u001b[0;34m=\u001b[0m\u001b[0mdataFrame\u001b[0m\u001b[0;34m)\u001b[0m\u001b[0;34m\u001b[0m\u001b[0;34m\u001b[0m\u001b[0m\n\u001b[0m\u001b[1;32m      2\u001b[0m \u001b[0mX_val\u001b[0m\u001b[0;34m,\u001b[0m \u001b[0my_val\u001b[0m \u001b[0;34m=\u001b[0m \u001b[0massemble_predictors_predictands\u001b[0m\u001b[0;34m(\u001b[0m\u001b[0mstart_index\u001b[0m\u001b[0;34m=\u001b[0m\u001b[0;36m936\u001b[0m\u001b[0;34m,\u001b[0m \u001b[0mend_index\u001b[0m\u001b[0;34m=\u001b[0m\u001b[0;36m1080\u001b[0m\u001b[0;34m,\u001b[0m \u001b[0mlead_time\u001b[0m\u001b[0;34m=\u001b[0m\u001b[0;36m1\u001b[0m\u001b[0;34m,\u001b[0m \u001b[0mdataFrame\u001b[0m\u001b[0;34m=\u001b[0m\u001b[0mdataFrame\u001b[0m\u001b[0;34m)\u001b[0m\u001b[0;34m\u001b[0m\u001b[0;34m\u001b[0m\u001b[0m\n\u001b[1;32m      3\u001b[0m \u001b[0mX_test\u001b[0m\u001b[0;34m,\u001b[0m \u001b[0my_test\u001b[0m \u001b[0;34m=\u001b[0m \u001b[0massemble_predictors_predictands\u001b[0m\u001b[0;34m(\u001b[0m\u001b[0mstart_index\u001b[0m\u001b[0;34m=\u001b[0m\u001b[0;36m1224\u001b[0m\u001b[0;34m,\u001b[0m \u001b[0mend_index\u001b[0m\u001b[0;34m=\u001b[0m\u001b[0;36m1368\u001b[0m\u001b[0;34m,\u001b[0m \u001b[0mlead_time\u001b[0m\u001b[0;34m=\u001b[0m\u001b[0;36m1\u001b[0m\u001b[0;34m,\u001b[0m \u001b[0mdataFrame\u001b[0m\u001b[0;34m=\u001b[0m\u001b[0mdataFrame\u001b[0m\u001b[0;34m)\u001b[0m\u001b[0;34m\u001b[0m\u001b[0;34m\u001b[0m\u001b[0m\n",
      "\u001b[0;31mNameError\u001b[0m: name 'dataFrame' is not defined"
     ]
    }
   ],
   "source": [
    "X_train, y_train = assemble_predictors_predictands(start_index=0, end_index=1300, lead_time=1, dataFrame=dataFrame)\n",
    "X_val, y_val = assemble_predictors_predictands(start_index=936, end_index=1080, lead_time=1, dataFrame=dataFrame)\n",
    "X_test, y_test = assemble_predictors_predictands(start_index=1224, end_index=1368, lead_time=1, dataFrame=dataFrame)"
   ]
  },
  {
   "cell_type": "markdown",
   "id": "18900bb6-d17b-46e6-9250-2fa8bed5b2ae",
   "metadata": {},
   "source": [
    "### *Step 3*: Use the training set to develop a model that will generalize to the valuation set. \n"
   ]
  },
  {
   "cell_type": "code",
   "execution_count": 8,
   "id": "33793632-a9df-4217-b5f5-95dc6c4cbd4c",
   "metadata": {},
   "outputs": [
    {
     "ename": "NameError",
     "evalue": "name 'sklearn' is not defined",
     "output_type": "error",
     "traceback": [
      "\u001b[0;31m---------------------------------------------------------------------------\u001b[0m",
      "\u001b[0;31mNameError\u001b[0m                                 Traceback (most recent call last)",
      "\u001b[0;32m<ipython-input-8-84cfb15dd5c2>\u001b[0m in \u001b[0;36m<module>\u001b[0;34m\u001b[0m\n\u001b[1;32m      1\u001b[0m \u001b[0;31m#Let's use a linear regression model\u001b[0m\u001b[0;34m\u001b[0m\u001b[0;34m\u001b[0m\u001b[0;34m\u001b[0m\u001b[0m\n\u001b[0;32m----> 2\u001b[0;31m \u001b[0mregr\u001b[0m \u001b[0;34m=\u001b[0m \u001b[0msklearn\u001b[0m\u001b[0;34m.\u001b[0m\u001b[0mlinear_model\u001b[0m\u001b[0;34m.\u001b[0m\u001b[0mLinearRegression\u001b[0m\u001b[0;34m(\u001b[0m\u001b[0;34m)\u001b[0m\u001b[0;34m\u001b[0m\u001b[0;34m\u001b[0m\u001b[0m\n\u001b[0m\u001b[1;32m      3\u001b[0m \u001b[0mregr\u001b[0m\u001b[0;34m.\u001b[0m\u001b[0mfit\u001b[0m\u001b[0;34m(\u001b[0m\u001b[0mX_train\u001b[0m\u001b[0;34m,\u001b[0m\u001b[0my_train\u001b[0m\u001b[0;34m)\u001b[0m\u001b[0;34m\u001b[0m\u001b[0;34m\u001b[0m\u001b[0m\n\u001b[1;32m      4\u001b[0m \u001b[0;34m\u001b[0m\u001b[0m\n\u001b[1;32m      5\u001b[0m \u001b[0mpredictions\u001b[0m \u001b[0;34m=\u001b[0m \u001b[0mregr\u001b[0m\u001b[0;34m.\u001b[0m\u001b[0mpredict\u001b[0m\u001b[0;34m(\u001b[0m\u001b[0mX_val\u001b[0m\u001b[0;34m)\u001b[0m\u001b[0;34m\u001b[0m\u001b[0;34m\u001b[0m\u001b[0m\n",
      "\u001b[0;31mNameError\u001b[0m: name 'sklearn' is not defined"
     ]
    }
   ],
   "source": [
    "#Let's use a linear regression model\n",
    "regr = sklearn.linear_model.LinearRegression()\n",
    "regr.fit(X_train,y_train)\n",
    "\n",
    "predictions = regr.predict(X_val)\n",
    "corr, _ = scipy.stats.pearsonr(predictions, y_val)\n",
    "rmse = mean_squared_error(y_val, predictions)\n",
    "print(\"RMSE: {:.2f}\".format(rmse))\n",
    "\n",
    "plot_GECKO_time_series(y_val, predictions, \n",
    "    'Predicted and True Precursor amount on Training Set at 1 Time-Step Lead Time. \\n Corr: {:.2f}'.format(corr))"
   ]
  },
  {
   "cell_type": "code",
   "execution_count": null,
   "id": "d2c82ebc-9d4b-4df6-a55c-9fe33a7cbf30",
   "metadata": {},
   "outputs": [],
   "source": []
  }
 ],
 "metadata": {
  "kernelspec": {
   "display_name": "Python 3",
   "language": "python",
   "name": "python3"
  },
  "language_info": {
   "codemirror_mode": {
    "name": "ipython",
    "version": 3
   },
   "file_extension": ".py",
   "mimetype": "text/x-python",
   "name": "python",
   "nbconvert_exporter": "python",
   "pygments_lexer": "ipython3",
   "version": "3.9.4"
  }
 },
 "nbformat": 4,
 "nbformat_minor": 5
}
