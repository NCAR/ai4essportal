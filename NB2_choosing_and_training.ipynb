{
 "cells": [
  {
   "cell_type": "markdown",
   "id": "1ea4f37c-74e4-4395-b865-03a6c6edaea2",
   "metadata": {},
   "source": [
    "# NB2: Choosing and Training a Model\n",
    "\n",
    "## Constructing a basic linear model\n",
    "\n",
    "So far we have peeked at the data and applied two scaling techniques. Let's construct a very basic model to predict precursor at t+n where t is the previous timestep and n represent the lead time. Lead time being t_delta between observation and prediction.\n",
    "\n",
    "For our model we are give a matrix of predictors **X** and a vector of **y**. We are trying to solve for model *w* which minimizes the following:\n",
    "\n",
    "$$\\text{min}||Xw-y||^2 $$\n",
    "\n",
    "There will me more on this later. Let's just abstract away model building for now so we can see the importance of feature scaling and normalization.\n",
    "\n",
    "The general steps here will be.\n",
    "\n",
    "*Step 1*: Build X and y\n",
    "\n",
    "*Step 2*: Separate data into a training set, valuation set, and test set. (There is a bit of technique in this, but we will make this simple for now.)\n",
    "\n",
    "*Step 3*: Use the training set to develop a model that will generalize to the valuation set. \n",
    "\n",
    "*Step 4*: Apply changes as necessary to avoid underfitting and overfitting. (More on this later.)\n",
    "\n",
    "*Step 5*: Apply your model to the test set."
   ]
  },
  {
   "cell_type": "markdown",
   "id": "a178428b-ac36-44af-a75c-c96f30bc177a",
   "metadata": {},
   "source": [
    "### Helper"
   ]
  },
  {
   "cell_type": "code",
   "execution_count": 1,
   "id": "1076af8b-e774-4fe2-8eb1-b1193bff8f00",
   "metadata": {},
   "outputs": [],
   "source": [
    "def plot_GECKO_time_series(y, y_predictions, title):\n",
    "    \"\"\"\n",
    "    notes\n",
    "    -----\n",
    "        Taken from seasonal_forecasting.ipynb notebook. Credit: Charlie Becker\n",
    "\n",
    "    inputs\n",
    "    ------\n",
    "        y             pd.array  : time series of the true precursor amount\n",
    "        predictions   np.array  : time series of the predicted values for y (same\n",
    "                                  length and time as y)\n",
    "        title                   : the title of the plot\n",
    "\n",
    "    outputs\n",
    "    -------\n",
    "        None.  Displays the plot\n",
    "    \"\"\"\n",
    "#     predictions = pd.Series(y_predictions, index=y.index)\n",
    "#     predictions = predictions.sort_index()\n",
    "#     y = y.sort_index()\n",
    "\n",
    "    plt.plot(y, label='Ground Truth')\n",
    "    plt.plot(y_predictions, '--', label='ML Predictions')\n",
    "    plt.legend(loc='best')\n",
    "    plt.title(title)\n",
    "    plt.ylabel('Precursor [ug/m3] ')\n",
    "    plt.xlabel('Time-step')\n",
    "    plt.show()\n",
    "    plt.close()"
   ]
  },
  {
   "cell_type": "markdown",
   "id": "08a09cb8-eecd-482d-8e15-996cbff4b317",
   "metadata": {},
   "source": [
    "### Step 1: Build X and y"
   ]
  },
  {
   "cell_type": "code",
   "execution_count": 3,
   "id": "179d54e0-9d0f-4581-9fe5-cda7acecf4d3",
   "metadata": {},
   "outputs": [],
   "source": [
    "def assemble_predictors_predictands(start_index, end_index, lead_time, dataFrame):\n",
    "    X = dataFrame.iloc[start_index:end_index,1:].values\n",
    "    y = dataFrame.loc[start_index + lead_time: end_index + lead_time - 1,' Precursor [ug/m3]'].values\n",
    "    #TODO\n",
    "    # Add logic to make sure dataframe is not being overindexed when building vector of predictands\n",
    "    \n",
    "    \"\"\"\n",
    "    notes\n",
    "    -----\n",
    "        Taken from seasonal_forecasting.ipynb notebook. Credit: Charlie Becker\n",
    "        We will ignore the time domain in our feature matrix.\n",
    "        \n",
    "    inputs\n",
    "    ------\n",
    "\n",
    "        start_index       int : the start index from which to extraxt features\n",
    "        end_index         int : the end index\n",
    "        lead_time         int : (n) the number of timesteps between each row of features\n",
    "                              and the target amount of precursor\n",
    "\n",
    "    outputs\n",
    "    -------\n",
    "        Returns a tuple of the predictors (np array of predictive features) \n",
    "        and the predictands (np array of precursor at t+n).\n",
    "        \"\"\"\n",
    "\n",
    "    return X,y"
   ]
  },
  {
   "cell_type": "code",
   "execution_count": 4,
   "id": "5a6aa14b-89db-4960-8c17-ead4989a0f03",
   "metadata": {},
   "outputs": [
    {
     "ename": "NameError",
     "evalue": "name 'dataFrame' is not defined",
     "output_type": "error",
     "traceback": [
      "\u001b[0;31m---------------------------------------------------------------------------\u001b[0m",
      "\u001b[0;31mNameError\u001b[0m                                 Traceback (most recent call last)",
      "\u001b[0;32m<ipython-input-4-cbe231380f51>\u001b[0m in \u001b[0;36m<module>\u001b[0;34m\u001b[0m\n\u001b[0;32m----> 1\u001b[0;31m \u001b[0mX\u001b[0m\u001b[0;34m,\u001b[0m\u001b[0my\u001b[0m \u001b[0;34m=\u001b[0m \u001b[0massemble_predictors_predictands\u001b[0m\u001b[0;34m(\u001b[0m\u001b[0mstart_index\u001b[0m \u001b[0;34m=\u001b[0m \u001b[0;36m0\u001b[0m\u001b[0;34m,\u001b[0m \u001b[0mend_index\u001b[0m \u001b[0;34m=\u001b[0m \u001b[0;36m1390\u001b[0m\u001b[0;34m,\u001b[0m \u001b[0mlead_time\u001b[0m \u001b[0;34m=\u001b[0m \u001b[0;36m1\u001b[0m\u001b[0;34m,\u001b[0m \u001b[0mdataFrame\u001b[0m \u001b[0;34m=\u001b[0m \u001b[0mdataFrame\u001b[0m\u001b[0;34m)\u001b[0m\u001b[0;34m\u001b[0m\u001b[0;34m\u001b[0m\u001b[0m\n\u001b[0m",
      "\u001b[0;31mNameError\u001b[0m: name 'dataFrame' is not defined"
     ]
    }
   ],
   "source": [
    "X,y = assemble_predictors_predictands(start_index = 0, end_index = 1390, lead_time = 1, dataFrame = dataFrame)"
   ]
  },
  {
   "cell_type": "code",
   "execution_count": 5,
   "id": "90cf7646-0e98-456c-96ab-e79c138c5f8b",
   "metadata": {},
   "outputs": [
    {
     "ename": "NameError",
     "evalue": "name 'y' is not defined",
     "output_type": "error",
     "traceback": [
      "\u001b[0;31m---------------------------------------------------------------------------\u001b[0m",
      "\u001b[0;31mNameError\u001b[0m                                 Traceback (most recent call last)",
      "\u001b[0;32m<ipython-input-5-aeb130fd6136>\u001b[0m in \u001b[0;36m<module>\u001b[0;34m\u001b[0m\n\u001b[0;32m----> 1\u001b[0;31m \u001b[0mplot_GECKO_time_series\u001b[0m\u001b[0;34m(\u001b[0m\u001b[0my\u001b[0m\u001b[0;34m,\u001b[0m\u001b[0my\u001b[0m\u001b[0;34m,\u001b[0m\u001b[0;34m\"Amount of Precursor over time?\"\u001b[0m\u001b[0;34m)\u001b[0m\u001b[0;34m\u001b[0m\u001b[0;34m\u001b[0m\u001b[0m\n\u001b[0m",
      "\u001b[0;31mNameError\u001b[0m: name 'y' is not defined"
     ]
    }
   ],
   "source": [
    "plot_GECKO_time_series(y,y,\"Amount of Precursor over time?\")"
   ]
  },
  {
   "cell_type": "code",
   "execution_count": 6,
   "id": "792966d9-43f9-4426-8fc2-68ed7f1a8855",
   "metadata": {},
   "outputs": [
    {
     "ename": "SyntaxError",
     "evalue": "invalid syntax (<ipython-input-6-e62eda951b58>, line 3)",
     "output_type": "error",
     "traceback": [
      "\u001b[0;36m  File \u001b[0;32m\"<ipython-input-6-e62eda951b58>\"\u001b[0;36m, line \u001b[0;32m3\u001b[0m\n\u001b[0;31m    We are going to allocated about 55% of the lower half of data for training, 65-75% will be for valuation, and 85-95% for test set. This will be approximate separations going by index. There are other methods for creating sets but this will be covered in a later notebook.\u001b[0m\n\u001b[0m       ^\u001b[0m\n\u001b[0;31mSyntaxError\u001b[0m\u001b[0;31m:\u001b[0m invalid syntax\n"
     ]
    }
   ],
   "source": [
    "### Step 2: Separate data into a training set, valuation set, and test set. (There is a bit of technique in this, but we will make this simple for now.)\n",
    "\n",
    "We are going to allocated about 55% of the lower half of data for training, 65-75% will be for valuation, and 85-95% for test set. This will be approximate separations going by index. There are other methods for creating sets but this will be covered in a later notebook."
   ]
  },
  {
   "cell_type": "code",
   "execution_count": 7,
   "id": "66541d77-64d5-4936-93de-bf534b271c8a",
   "metadata": {},
   "outputs": [
    {
     "ename": "NameError",
     "evalue": "name 'dataFrame' is not defined",
     "output_type": "error",
     "traceback": [
      "\u001b[0;31m---------------------------------------------------------------------------\u001b[0m",
      "\u001b[0;31mNameError\u001b[0m                                 Traceback (most recent call last)",
      "\u001b[0;32m<ipython-input-7-ea8029956e81>\u001b[0m in \u001b[0;36m<module>\u001b[0;34m\u001b[0m\n\u001b[0;32m----> 1\u001b[0;31m \u001b[0mX_train\u001b[0m\u001b[0;34m,\u001b[0m \u001b[0my_train\u001b[0m \u001b[0;34m=\u001b[0m \u001b[0massemble_predictors_predictands\u001b[0m\u001b[0;34m(\u001b[0m\u001b[0mstart_index\u001b[0m\u001b[0;34m=\u001b[0m\u001b[0;36m0\u001b[0m\u001b[0;34m,\u001b[0m \u001b[0mend_index\u001b[0m\u001b[0;34m=\u001b[0m\u001b[0;36m1300\u001b[0m\u001b[0;34m,\u001b[0m \u001b[0mlead_time\u001b[0m\u001b[0;34m=\u001b[0m\u001b[0;36m1\u001b[0m\u001b[0;34m,\u001b[0m \u001b[0mdataFrame\u001b[0m\u001b[0;34m=\u001b[0m\u001b[0mdataFrame\u001b[0m\u001b[0;34m)\u001b[0m\u001b[0;34m\u001b[0m\u001b[0;34m\u001b[0m\u001b[0m\n\u001b[0m\u001b[1;32m      2\u001b[0m \u001b[0mX_val\u001b[0m\u001b[0;34m,\u001b[0m \u001b[0my_val\u001b[0m \u001b[0;34m=\u001b[0m \u001b[0massemble_predictors_predictands\u001b[0m\u001b[0;34m(\u001b[0m\u001b[0mstart_index\u001b[0m\u001b[0;34m=\u001b[0m\u001b[0;36m936\u001b[0m\u001b[0;34m,\u001b[0m \u001b[0mend_index\u001b[0m\u001b[0;34m=\u001b[0m\u001b[0;36m1080\u001b[0m\u001b[0;34m,\u001b[0m \u001b[0mlead_time\u001b[0m\u001b[0;34m=\u001b[0m\u001b[0;36m1\u001b[0m\u001b[0;34m,\u001b[0m \u001b[0mdataFrame\u001b[0m\u001b[0;34m=\u001b[0m\u001b[0mdataFrame\u001b[0m\u001b[0;34m)\u001b[0m\u001b[0;34m\u001b[0m\u001b[0;34m\u001b[0m\u001b[0m\n\u001b[1;32m      3\u001b[0m \u001b[0mX_test\u001b[0m\u001b[0;34m,\u001b[0m \u001b[0my_test\u001b[0m \u001b[0;34m=\u001b[0m \u001b[0massemble_predictors_predictands\u001b[0m\u001b[0;34m(\u001b[0m\u001b[0mstart_index\u001b[0m\u001b[0;34m=\u001b[0m\u001b[0;36m1224\u001b[0m\u001b[0;34m,\u001b[0m \u001b[0mend_index\u001b[0m\u001b[0;34m=\u001b[0m\u001b[0;36m1368\u001b[0m\u001b[0;34m,\u001b[0m \u001b[0mlead_time\u001b[0m\u001b[0;34m=\u001b[0m\u001b[0;36m1\u001b[0m\u001b[0;34m,\u001b[0m \u001b[0mdataFrame\u001b[0m\u001b[0;34m=\u001b[0m\u001b[0mdataFrame\u001b[0m\u001b[0;34m)\u001b[0m\u001b[0;34m\u001b[0m\u001b[0;34m\u001b[0m\u001b[0m\n",
      "\u001b[0;31mNameError\u001b[0m: name 'dataFrame' is not defined"
     ]
    }
   ],
   "source": [
    "X_train, y_train = assemble_predictors_predictands(start_index=0, end_index=1300, lead_time=1, dataFrame=dataFrame)\n",
    "X_val, y_val = assemble_predictors_predictands(start_index=936, end_index=1080, lead_time=1, dataFrame=dataFrame)\n",
    "X_test, y_test = assemble_predictors_predictands(start_index=1224, end_index=1368, lead_time=1, dataFrame=dataFrame)"
   ]
  },
  {
   "cell_type": "markdown",
   "id": "18900bb6-d17b-46e6-9250-2fa8bed5b2ae",
   "metadata": {},
   "source": [
    "### *Step 3*: Use the training set to develop a model that will generalize to the valuation set. \n"
   ]
  },
  {
   "cell_type": "code",
   "execution_count": 8,
   "id": "33793632-a9df-4217-b5f5-95dc6c4cbd4c",
   "metadata": {},
   "outputs": [
    {
     "ename": "NameError",
     "evalue": "name 'sklearn' is not defined",
     "output_type": "error",
     "traceback": [
      "\u001b[0;31m---------------------------------------------------------------------------\u001b[0m",
      "\u001b[0;31mNameError\u001b[0m                                 Traceback (most recent call last)",
      "\u001b[0;32m<ipython-input-8-84cfb15dd5c2>\u001b[0m in \u001b[0;36m<module>\u001b[0;34m\u001b[0m\n\u001b[1;32m      1\u001b[0m \u001b[0;31m#Let's use a linear regression model\u001b[0m\u001b[0;34m\u001b[0m\u001b[0;34m\u001b[0m\u001b[0;34m\u001b[0m\u001b[0m\n\u001b[0;32m----> 2\u001b[0;31m \u001b[0mregr\u001b[0m \u001b[0;34m=\u001b[0m \u001b[0msklearn\u001b[0m\u001b[0;34m.\u001b[0m\u001b[0mlinear_model\u001b[0m\u001b[0;34m.\u001b[0m\u001b[0mLinearRegression\u001b[0m\u001b[0;34m(\u001b[0m\u001b[0;34m)\u001b[0m\u001b[0;34m\u001b[0m\u001b[0;34m\u001b[0m\u001b[0m\n\u001b[0m\u001b[1;32m      3\u001b[0m \u001b[0mregr\u001b[0m\u001b[0;34m.\u001b[0m\u001b[0mfit\u001b[0m\u001b[0;34m(\u001b[0m\u001b[0mX_train\u001b[0m\u001b[0;34m,\u001b[0m\u001b[0my_train\u001b[0m\u001b[0;34m)\u001b[0m\u001b[0;34m\u001b[0m\u001b[0;34m\u001b[0m\u001b[0m\n\u001b[1;32m      4\u001b[0m \u001b[0;34m\u001b[0m\u001b[0m\n\u001b[1;32m      5\u001b[0m \u001b[0mpredictions\u001b[0m \u001b[0;34m=\u001b[0m \u001b[0mregr\u001b[0m\u001b[0;34m.\u001b[0m\u001b[0mpredict\u001b[0m\u001b[0;34m(\u001b[0m\u001b[0mX_val\u001b[0m\u001b[0;34m)\u001b[0m\u001b[0;34m\u001b[0m\u001b[0;34m\u001b[0m\u001b[0m\n",
      "\u001b[0;31mNameError\u001b[0m: name 'sklearn' is not defined"
     ]
    }
   ],
   "source": [
    "#Let's use a linear regression model\n",
    "regr = sklearn.linear_model.LinearRegression()\n",
    "regr.fit(X_train,y_train)\n",
    "\n",
    "predictions = regr.predict(X_val)\n",
    "corr, _ = scipy.stats.pearsonr(predictions, y_val)\n",
    "rmse = mean_squared_error(y_val, predictions)\n",
    "print(\"RMSE: {:.2f}\".format(rmse))\n",
    "\n",
    "plot_GECKO_time_series(y_val, predictions, \n",
    "    'Predicted and True Precursor amount on Training Set at 1 Time-Step Lead Time. \\n Corr: {:.2f}'.format(corr))"
   ]
  },
  {
   "cell_type": "code",
   "execution_count": null,
   "id": "d2c82ebc-9d4b-4df6-a55c-9fe33a7cbf30",
   "metadata": {},
   "outputs": [],
   "source": []
  }
 ],
 "metadata": {
  "kernelspec": {
   "display_name": "Python 3",
   "language": "python",
   "name": "python3"
  },
  "language_info": {
   "codemirror_mode": {
    "name": "ipython",
    "version": 3
   },
   "file_extension": ".py",
   "mimetype": "text/x-python",
   "name": "python",
   "nbconvert_exporter": "python",
   "pygments_lexer": "ipython3",
   "version": "3.9.4"
  }
 },
 "nbformat": 4,
 "nbformat_minor": 5
}
